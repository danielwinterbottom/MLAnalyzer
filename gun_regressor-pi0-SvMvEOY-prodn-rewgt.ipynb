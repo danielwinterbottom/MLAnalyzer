{
 "cells": [
  {
   "cell_type": "code",
   "execution_count": 1,
   "metadata": {},
   "outputs": [],
   "source": [
    "%matplotlib inline\n",
    "from matplotlib import pyplot as plt\n",
    "plt.rcParams[\"figure.figsize\"] = (7,7)\n",
    "import numpy as np"
   ]
  },
  {
   "cell_type": "code",
   "execution_count": 2,
   "metadata": {},
   "outputs": [
    {
     "name": "stdout",
     "output_type": "stream",
     "text": [
      "Welcome to JupyROOT 6.20/02\n"
     ]
    }
   ],
   "source": [
    "from __future__ import print_function\n",
    "import time, os, glob\n",
    "import ROOT\n",
    "from array import array\n",
    "#from hist_utils import *\n",
    "import CMS_lumi"
   ]
  },
  {
   "cell_type": "code",
   "execution_count": 3,
   "metadata": {},
   "outputs": [],
   "source": [
    "def make_pdf(h):\n",
    "\n",
    "    sumOverY = {}\n",
    "    for ix in range(1, h.GetNbinsX()+1):\n",
    "        sumOverY[ix] = sum([h.GetBinContent(ix, iy_) for iy_ in range(1, h.GetNbinsY()+1)])\n",
    "        for iy in range(1, h.GetNbinsY()+1):\n",
    "            binc = h.GetBinContent(ix, iy)\n",
    "            if sumOverY[ix] > 0.:\n",
    "                h.SetBinContent(ix, iy, binc/sumOverY[ix])\n",
    "\n",
    "    return h\n",
    "\n",
    "def set_hist(h, c, xtitle, ytitle, htitle):\n",
    "    #c.SetLeftMargin(0.14)\n",
    "    #c.SetRightMargin(0.07)\n",
    "    #c.SetBottomMargin(0.12)\n",
    "    #c.SetTopMargin(0.07)\n",
    "    c.SetLeftMargin(0.16)\n",
    "    c.SetRightMargin(0.07)\n",
    "    c.SetBottomMargin(0.15)\n",
    "    c.SetTopMargin(0.08)\n",
    "    ROOT.gStyle.SetOptStat(0)\n",
    "\n",
    "    h.GetXaxis().SetLabelSize(0.04)\n",
    "    h.GetXaxis().SetLabelFont(42)\n",
    "    h.GetXaxis().SetTitle(xtitle)\n",
    "    h.GetXaxis().SetTitleOffset(0.9)\n",
    "    h.GetXaxis().SetTitleSize(0.06)\n",
    "    h.GetXaxis().SetTitleFont(42)\n",
    "\n",
    "    h.GetYaxis().SetLabelSize(0.04)\n",
    "    h.GetYaxis().SetLabelFont(42)\n",
    "    h.GetYaxis().SetTitleOffset(1.2)\n",
    "    h.GetYaxis().SetTitleSize(0.06)\n",
    "    h.GetYaxis().SetTitleFont(42)\n",
    "    h.GetYaxis().SetTitle(ytitle)\n",
    "\n",
    "    h.SetTitleSize(0.04)\n",
    "    h.SetTitleFont(42)\n",
    "    h.SetTitle(htitle)\n",
    "    h.SetTitleOffset(1.2)\n",
    "\n",
    "    return h, c"
   ]
  },
  {
   "cell_type": "code",
   "execution_count": 24,
   "metadata": {},
   "outputs": [
    {
     "name": "stdout",
     "output_type": "stream",
     "text": [
      ">> Doing |eta| range: None\n",
      ">> For sample: SOY\n",
      "data2017-Run2017B_mantuple.root\n",
      ".. N input files: 1\n",
      "   .. input file: root://cmseos.fnal.gov//store/user/lpchaa4g/mandrews/2017/Era2017_15Mar2021_CLUSv1/skim/ep90/data2017-Run2017B_mantuple.root\n",
      ".. N events: 1927509\n",
      ".. Processing entries: [ 0 -> 1927509 )\n",
      "   .. 0 / 1927509\n",
      "   .. 1000000 / 1927509\n",
      ".. N selected: 636983 / 1927509\n",
      ".. N cands: 636983\n",
      ".. ma[:5]: [0.11453018 1.06739414 0.64239806 0.30186024 0.62931931]\n",
      ".. pt[:5]: [24.6784668  30.26367378 22.03344536 21.6946907  23.40287018]\n",
      ".. eta[:5]: [-0.36984941  0.28534123  1.42755866  1.04643893 -0.05641234]\n",
      ".. pu[:5]: [26.59771156 26.59771156 26.59771156 26.59771156 26.59771156]\n",
      ".. run[:5]: [297050 297050 297050 297050 297050]\n",
      ".. bdt[:5]: [-0.2611801  -0.5882141  -0.8451156  -0.22489795 -0.71613878]\n",
      "=============================\n",
      ">> For sample: EOY\n",
      "data2017-Run2017F_mantuple.root\n",
      ".. N input files: 1\n",
      "   .. input file: root://cmseos.fnal.gov//store/user/lpchaa4g/mandrews/2017/Era2017_15Mar2021_CLUSv1/skim/ep90/data2017-Run2017F_mantuple.root\n",
      ".. N events: 4918844\n",
      ".. Processing entries: [ 0 -> 4918844 )\n",
      "   .. 0 / 4918844\n",
      "   .. 1000000 / 4918844\n",
      "   .. 2000000 / 4918844\n",
      "   .. 3000000 / 4918844\n",
      "   .. 4000000 / 4918844\n",
      ".. N selected: 1566328 / 4918844\n",
      ".. N cands: 1566328\n",
      ".. ma[:5]: [ 0.6796822   0.07397415  0.20834804  0.12195192 -0.00508606]\n",
      ".. pt[:5]: [20.92951584 23.46789551 23.92675972 29.98879623 24.99571419]\n",
      ".. eta[:5]: [ 1.02786839  0.11519656 -1.27251518  0.7339164  -0.76152503]\n",
      ".. pu[:5]: [49.02197266 49.02197266 49.02197266 49.02197266 49.02197266]\n",
      ".. run[:5]: [305044 305044 305044 305044 305044]\n",
      ".. bdt[:5]: [-0.53743613 -0.24209237  0.16902275 -0.55454379  0.68743259]\n",
      "=============================\n",
      ">> Done.\n"
     ]
    }
   ],
   "source": [
    "img_inputs = {}\n",
    "img_inputs['SOY'] = [\n",
    "    'data2017-Run2017B_mantuple.root',\n",
    "]\n",
    "img_inputs['MOY'] = [\n",
    "    'data2017-Run2017D_mantuple.root',\n",
    "]\n",
    "img_inputs['EOY'] = [\n",
    "    'data2017-Run2017F_mantuple.root',\n",
    "]\n",
    "\n",
    "kref = 'SOY'\n",
    "ktest = 'MOY'\n",
    "\n",
    "is_rerun = False\n",
    "is_rerun = True\n",
    "if is_rerun:\n",
    "    ktest = 'EOY'\n",
    "else:\n",
    "    ma, pt, eta, pu = {}, {}, {}, {}\n",
    "\n",
    "samples = [kref, ktest]\n",
    "runs = {}\n",
    "bdt = {}\n",
    "#eta_range = 'cntr'\n",
    "#eta_range = 'mid'\n",
    "#eta_range = 'fwd'\n",
    "eta_range = None\n",
    "#era = 'ZeeSel-Era16Feb2021-Zeev1' #massreg paper only\n",
    "#era = 'ZeeSel-Era16Feb2021-Zeev2' #h4g\n",
    "ml_model = 'ep90' # massreg paper only\n",
    "#ml_model = 'ep80-h4g' # h4g\n",
    "\n",
    "print('>> Doing |eta| range:',eta_range)\n",
    "\n",
    "year = 2017\n",
    "eos_basedir = 'root://cmseos.fnal.gov//store/user/lpchaa4g/mandrews/%s/Era%s_15Mar2021_CLUSv1/skim/%s'%(year, year, ml_model)\n",
    "\n",
    "for s in samples:\n",
    "    \n",
    "    print('>> For sample:',s)\n",
    "\n",
    "    print(img_inputs[s][0])\n",
    "    print('.. N input files: %d'%(len(img_inputs[s])))\n",
    "    assert len(img_inputs[s]) > 0\n",
    "\n",
    "    tree = ROOT.TChain(\"mantuple\")\n",
    "    for fi in img_inputs[s]:\n",
    "        fname = '%s/%s'%(eos_basedir,fi)\n",
    "        print('   .. input file:',fname)\n",
    "        tree.Add(fname)\n",
    "        #break\n",
    "    nEvts = tree.GetEntries()\n",
    "    print('.. N events: %d'%nEvts)\n",
    "\n",
    "    ###############################\n",
    "    # Event loop\n",
    "\n",
    "    iEvtStart = 0\n",
    "    iEvtEnd   = nEvts\n",
    "    #iEvtEnd   = 10000000#100#50000#10\n",
    "    print(\".. Processing entries: [\",iEvtStart,\"->\",iEvtEnd,\")\")\n",
    "\n",
    "    nWrite = 0\n",
    "    ma[s], pt[s], eta[s], pu[s] = [], [], [], []\n",
    "    runs[s] = []\n",
    "    bdt[s] = []\n",
    "    for iEvt in range(iEvtStart,iEvtEnd):\n",
    "\n",
    "        # Initialize event\n",
    "        if iEvt%1e6==0: print('   ..',iEvt,'/',iEvtEnd-iEvtStart)\n",
    "        evt_status = tree.GetEntry(iEvt)\n",
    "\n",
    "        if tree.pt1 >= 35.: continue\n",
    "        if tree.mgg >= 100.: continue\n",
    "        #'''\n",
    "        # for massreg paper\n",
    "        if tree.nRecoPho != 2: continue\n",
    "        if tree.bdt1 <= -0.92: continue\n",
    "        if tree.chiso1/tree.pt1 >= 0.3: continue\n",
    "        if tree.sieie1 >= 0.013: continue #0.011\n",
    "        #'''\n",
    "        '''\n",
    "        # for h4g paper\n",
    "        #if tree.nRecoPho != 2: continue\n",
    "        if tree.bdt1 <= -0.96: continue\n",
    "        if tree.chiso1/tree.pt1 >= 0.07: continue\n",
    "        #if tree.sieie1 >= 0.013: continue #0.011 if left commented\n",
    "        '''\n",
    "        \n",
    "        # Store\n",
    "        eta_ = tree.eta1\n",
    "        if eta_range == 'cntr':\n",
    "            if abs(eta_) > 0.5: continue\n",
    "        elif eta_range == 'mid':\n",
    "            if abs(eta_) <= 0.5 or abs(eta_) > 1.00: continue\n",
    "        elif eta_range == 'fwd':\n",
    "            if abs(eta_) <= 1.0 or abs(eta_) > 1.44: continue\n",
    "        ma[s].append(tree.ma1)\n",
    "        pt[s].append(tree.pt1)\n",
    "        eta[s].append(eta_)\n",
    "        pu[s].append(tree.pu)\n",
    "        runs[s].append(tree.run)\n",
    "        bdt[s].append(tree.bdt1)\n",
    "\n",
    "        nWrite += 1\n",
    "\n",
    "    print('.. N selected: %d / %d'%(nWrite, iEvtEnd-iEvtStart))\n",
    "    \n",
    "    ma[s] = np.array(ma[s])\n",
    "    pt[s] = np.array(pt[s])\n",
    "    eta[s] = np.array(eta[s])\n",
    "    pu[s] = np.array(pu[s])\n",
    "    runs[s] = np.array(runs[s])\n",
    "    bdt[s] = np.array(bdt[s])\n",
    "    assert len(ma[s] == pt[s])\n",
    "    print('.. N cands:',len(ma[s]))\n",
    "    print('.. ma[:5]:',ma[s][:5])\n",
    "    print('.. pt[:5]:',pt[s][:5])\n",
    "    print('.. eta[:5]:',eta[s][:5])\n",
    "    print('.. pu[:5]:',pu[s][:5])\n",
    "    print('.. run[:5]:',runs[s][:5])\n",
    "    print('.. bdt[:5]:',bdt[s][:5])\n",
    "    print('=============================')\n",
    "\n",
    "print('>> Done.')"
   ]
  },
  {
   "cell_type": "code",
   "execution_count": 25,
   "metadata": {},
   "outputs": [
    {
     "name": "stdout",
     "output_type": "stream",
     "text": [
      "run[SOY] min:297050 max:299329\n",
      "run[EOY] min:305044 max:306460\n"
     ]
    }
   ],
   "source": [
    "for s in samples:\n",
    "    print('run[%s] min:%d max:%d'%(s, np.min(runs[s]), np.max(runs[s])))"
   ]
  },
  {
   "cell_type": "code",
   "execution_count": 26,
   "metadata": {},
   "outputs": [
    {
     "data": {
      "image/png": "[encoded data removed]",
      "text/plain": [
       "<Figure size 288x216 with 1 Axes>"
      ]
     },
     "metadata": {
      "needs_background": "light"
     },
     "output_type": "display_data"
    },
    {
     "name": "stdout",
     "output_type": "stream",
     "text": [
      "34.999969482421875 34.99996566772461\n",
      "10.029868125915527 10.00078296661377\n"
     ]
    },
    {
     "data": {
      "image/png": "[encoded data removed]",
      "text/plain": [
       "<Figure size 288x216 with 1 Axes>"
      ]
     },
     "metadata": {
      "needs_background": "light"
     },
     "output_type": "display_data"
    },
    {
     "data": {
      "image/png": "[encoded data removed]",
      "text/plain": [
       "<Figure size 288x216 with 1 Axes>"
      ]
     },
     "metadata": {
      "needs_background": "light"
     },
     "output_type": "display_data"
    },
    {
     "name": "stdout",
     "output_type": "stream",
     "text": [
      "40.95809555053711 52.43214797973633\n"
     ]
    },
    {
     "data": {
      "image/png": "[encoded data removed]",
      "text/plain": [
       "<Figure size 288x216 with 1 Axes>"
      ]
     },
     "metadata": {
      "needs_background": "light"
     },
     "output_type": "display_data"
    }
   ],
   "source": [
    "plt.rcParams[\"figure.figsize\"] = (4,3)\n",
    "\n",
    "plt.hist(pt[kref], histtype='step', bins=50, range=(0., 200.), weights=np.ones_like(pt[kref])/len(pt[kref]))\n",
    "plt.hist(pt[ktest], histtype='step', bins=50, range=(0., 200.), weights=np.ones_like(pt[ktest])/len(pt[ktest]))\n",
    "plt.show()\n",
    "print(pt[kref].max(), pt[ktest].max())\n",
    "print(pt[kref].min(), pt[ktest].min())\n",
    "\n",
    "plt.hist(eta[kref], histtype='step', bins=50, range=(-2.6, 2.6), weights=np.ones_like(eta[kref])/len(eta[kref]))\n",
    "plt.hist(eta[ktest], histtype='step', bins=50, range=(-2.6, 2.6), weights=np.ones_like(eta[ktest])/len(eta[ktest]))\n",
    "plt.show()\n",
    "\n",
    "plt.hist(pu[kref], histtype='step', bins=50, range=(0., 80.), weights=np.ones_like(pu[kref])/len(pu[kref]))\n",
    "plt.hist(pu[ktest], histtype='step', bins=50, range=(0., 80.), weights=np.ones_like(pu[ktest])/len(pu[ktest]))\n",
    "plt.show()\n",
    "\n",
    "print(pu[kref].max(), pu[ktest].max())\n",
    "\n",
    "plt.hist(bdt[kref], histtype='step', bins=50, range=(-1.2, 1.2), weights=np.ones_like(bdt[kref])/len(bdt[kref]))\n",
    "plt.hist(bdt[ktest], histtype='step', bins=50, range=(-1.2, 1.2), weights=np.ones_like(bdt[ktest])/len(bdt[ktest]))\n",
    "plt.show()"
   ]
  },
  {
   "cell_type": "code",
   "execution_count": 27,
   "metadata": {},
   "outputs": [
    {
     "data": {
      "text/plain": [
       "array([17, 18, 19, 20, 21, 22, 23, 24, 25, 26, 27, 28, 29, 30, 31, 32, 33,\n",
       "       34, 35])"
      ]
     },
     "execution_count": 27,
     "metadata": {},
     "output_type": "execute_result"
    }
   ],
   "source": [
    "pt_bins_ = {}\n",
    "pt_bins_[0] = np.arange(17, 35+1, 1)\n",
    "#pt_bins_[0] = [10]\n",
    "#pt_bins_[1] = np.arange(20, 90, 2)\n",
    "#pt_bins_[2] = np.arange(90, 140, 10)\n",
    "#pt_bins_[3] = np.arange(140, 180, 20)\n",
    "#pt_bins_[4] = np.arange(180, 1500+1320, 1320)\n",
    "pt_bins = [pt_bins_[i] for i in pt_bins_]\n",
    "pt_bins = np.concatenate(pt_bins).flatten()\n",
    "pt_bins\n",
    "#print(pt['data2017'].max())"
   ]
  },
  {
   "cell_type": "code",
   "execution_count": 28,
   "metadata": {},
   "outputs": [],
   "source": [
    "def sg_bg(x, par):\n",
    "\n",
    "    arg = (x[0] - par[1])/par[2] if par[2] != 0. else 0.\n",
    "    sgval = par[0]*ROOT.TMath.Exp(-0.5*arg*arg)\n",
    "\n",
    "    bgval = par[3] + par[4]*x[0] + par[5]*x[0]*x[0]\n",
    "    #bgval = ROOT.TMath.Exp(par[3] + par[4]*x[0])\n",
    "    #arg2 = (x[0] - par[4])/par[5] if par[5] != 0. else 0.\n",
    "    #bgval = par[3]*ROOT.TMath.Exp(-0.5*arg2*arg2)\n",
    "\n",
    "    #fitval = sgval\n",
    "    fitval = sgval + bgval\n",
    "    return fitval\n",
    "\n",
    "def fit_sg_bg(h, k):\n",
    "\n",
    "    c = ROOT.TCanvas(k, k, 400, 400)\n",
    "    h[k].Draw('hist')\n",
    "    c.Draw()\n",
    "\n",
    "    ib_max = h[k].GetMaximumBin()\n",
    "    ib_off = 10\n",
    "    ma_ctr = h[k].GetXaxis().GetBinLowEdge(ib_max)\n",
    "    ma_lo = h[k].GetXaxis().GetBinLowEdge(ib_max-ib_off)\n",
    "    ma_hi = h[k].GetXaxis().GetBinLowEdge(ib_max+ib_off)\n",
    "    print(ib_max, ma_ctr)\n",
    "    print(ma_lo, ma_hi)\n",
    "\n",
    "    flo, fhi = ma_lo, ma_hi\n",
    "    #flo, fhi = 0.04, 0.3\n",
    "    #flo, fhi = 0.11, 0.23\n",
    "    #flo, fhi = 0.12, 0.22\n",
    "    #plo, phi = 0.0, 0.4\n",
    "    plo, phi = ma_lo, ma_hi\n",
    "\n",
    "    kcombo = k+'combo'\n",
    "    h[kcombo] = ROOT.TF1('combo', sg_bg, plo, phi, 6)\n",
    "    h[kcombo].SetParameter(1,0.15) # mean\n",
    "    h[kcombo].SetParameter(2,0.5) # sigma\n",
    "    h[kcombo].SetParLimits(1,0.1,0.2)\n",
    "    h[kcombo].SetParLimits(2,0.,0.1)\n",
    "    #h[kcombo].SetParLimits(3,5.,15.)\n",
    "    #h[kcombo].SetParLimits(4,-5.,0.)\n",
    "    #h[kcombo].SetParLimits(5,0.,1.e6)\n",
    "    #h[kcombo].SetParLimits(3,0.,1.e5)\n",
    "    #h[kcombo].SetParLimits(4,0.0,0.1)\n",
    "    h[kcombo].SetParLimits(5,0.,1.)\n",
    "    h[kcombo].SetLineColor(14)\n",
    "    #h[kcombo].SetParNames(\"sg-cons\",\"sg-mean\",\"sg-sigma\", 'bg-x0', 'bg-x1')\n",
    "    h[kcombo].SetParNames(\"sg-cons\",\"sg-mean\",\"sg-sigma\", 'bg-x0', 'bg-x1', 'bg-x2')\n",
    "    h[k].Fit('combo', '', '', flo, fhi)\n",
    "    h[kcombo].Draw('same')\n",
    "    chi2 = h[kcombo].GetChisquare()\n",
    "    ndof = h[kcombo].GetNDF()\n",
    "    pval = h[kcombo].GetProb()\n",
    "    print('chi2 / ndf: %f / %f = %f'%(chi2, ndof, chi2/ndof))\n",
    "    params_combo = array('d',[0.,0.,0.,0.,0.,0.])\n",
    "    h[kcombo].GetParameters(params_combo)\n",
    "    #print(params_combo)\n",
    "    print('!!! %s: mean:%f MeV, sigma:%f MeV'%(k, params_combo[1]*1.e3, params_combo[2]*1.e3))\n",
    "\n",
    "    #'''\n",
    "    ksg = k+'sg'\n",
    "    h[ksg] = ROOT.TF1(\"sg\",\"gaus\", plo, phi)\n",
    "    for i in range(3):\n",
    "        h[ksg].FixParameter(i, params_combo[i])\n",
    "    h[ksg].SetLineColor(2)\n",
    "    h[ksg].Draw('same')\n",
    "\n",
    "    kbg = k+'bg'\n",
    "    h[kbg] = ROOT.TF1(\"bg\",\"pol2\", plo, phi)\n",
    "    #bg = ROOT.TF1(\"bg\",\"expo\", plo, phi)\n",
    "    for i in range(3):\n",
    "        h[kbg].FixParameter(i, params_combo[i+3])\n",
    "    h[kbg].SetLineColor(4)\n",
    "    h[kbg].Draw('same')\n",
    "    #'''\n",
    "\n",
    "    c.cd()\n",
    "    c.Draw()"
   ]
  },
  {
   "cell_type": "code",
   "execution_count": 29,
   "metadata": {},
   "outputs": [
    {
     "name": "stderr",
     "output_type": "stream",
     "text": [
      "Warning in <TROOT::Append>: Replacing existing TH1: etavptSOY (Potential memory leak).\n",
      "Warning in <TCanvas::Constructor>: Deleting canvas with same name: etavptSOY\n",
      "Warning in <TCanvas::Constructor>: Deleting canvas with same name: etavptrefotest\n"
     ]
    },
    {
     "data": {
      "image/png": "[encoded data removed]",
      "text/plain": [
       "<IPython.core.display.Image object>"
      ]
     },
     "metadata": {},
     "output_type": "display_data"
    },
    {
     "data": {
      "image/png": "[encoded data removed]",
      "text/plain": [
       "<IPython.core.display.Image object>"
      ]
     },
     "metadata": {},
     "output_type": "display_data"
    },
    {
     "data": {
      "image/png": "[encoded data removed]",
      "text/plain": [
       "<IPython.core.display.Image object>"
      ]
     },
     "metadata": {},
     "output_type": "display_data"
    }
   ],
   "source": [
    "#'''\n",
    "if not is_rerun:\n",
    "    h, c = {}, {}\n",
    "\n",
    "eta_edge = 2.4\n",
    "#pt_lo, pt_hi = 20., 200.\n",
    "\n",
    "s = kref\n",
    "k = 'etavpt'+s\n",
    "#h[k] = ROOT.TH2F(k, k, 50, pt_lo, pt_hi, 48, -eta_edge, eta_edge)\n",
    "h[k] = ROOT.TH2F(k, k, len(pt_bins)-1, array('d', pt_bins), 48, -eta_edge, eta_edge)\n",
    "c[k] = ROOT.TCanvas(k, k, 400, 400)\n",
    "i = 0\n",
    "for p,e in zip(pt[s], eta[s]):\n",
    "    h[k].Fill(p, e)\n",
    "    i += 1\n",
    "    #if i > 10000: break\n",
    "h[k].Draw('COL Z')\n",
    "c[k].Draw()\n",
    "\n",
    "s = ktest\n",
    "k = 'etavpt'+s\n",
    "#h[k] = ROOT.TH2F(k, k, 50, pt_lo, pt_hi, 48, -eta_edge, eta_edge)\n",
    "h[k] = ROOT.TH2F(k, k, len(pt_bins)-1, array('d', pt_bins), 48, -eta_edge, eta_edge)\n",
    "c[k] = ROOT.TCanvas(k, k, 400, 400)\n",
    "i = 0\n",
    "for p,e in zip(pt[s], eta[s]):\n",
    "    h[k].Fill(p, e)\n",
    "    i += 1\n",
    "    #if i > 10000: break\n",
    "h[k].Draw('COL Z')\n",
    "c[k].Draw()\n",
    "#'''\n",
    "#'''\n",
    "k = 'etavptrefotest'\n",
    "#h[k] = ROOT.TH2F(k, k, len(pt_bins)-1, array('d', pt_bins), 48, -eta_edge, eta_edge)\n",
    "c[k] = ROOT.TCanvas(k, k, 400, 400)\n",
    "h[k] = h['etavpt%s'%kref].Clone()\n",
    "h[k].SetName(k)\n",
    "h[k].SetTitle(k)\n",
    "h[k].Divide(h['etavpt%s'%ktest])\n",
    "#h[k].GetXaxis().SetRangeUser(10., 100.)\n",
    "h[k].SetMaximum(10.)\n",
    "h[k].SetMinimum(1./10.)\n",
    "h[k].Draw('COL Z')\n",
    "c[k].Draw()\n",
    "#'''"
   ]
  },
  {
   "cell_type": "code",
   "execution_count": 30,
   "metadata": {},
   "outputs": [],
   "source": [
    "def get_ptetawgt(pt_, eta_, h, ceil=10.):\n",
    "\n",
    "    ipt_  = h.GetXaxis().FindBin(pt_)\n",
    "    ieta_ = h.GetYaxis().FindBin(eta_)\n",
    "    wgt = h.GetBinContent(ipt_, ieta_)\n",
    "    if wgt > ceil:\n",
    "        wgt = ceil\n",
    "\n",
    "    return wgt"
   ]
  },
  {
   "cell_type": "code",
   "execution_count": 31,
   "metadata": {},
   "outputs": [
    {
     "name": "stderr",
     "output_type": "stream",
     "text": [
      "Warning in <TCanvas::Constructor>: Deleting canvas with same name: etavptrefotestcorr\n"
     ]
    },
    {
     "data": {
      "image/png": "[encoded data removed]",
      "text/plain": [
       "<IPython.core.display.Image object>"
      ]
     },
     "metadata": {},
     "output_type": "display_data"
    },
    {
     "data": {
      "image/png": "[encoded data removed]",
      "text/plain": [
       "<IPython.core.display.Image object>"
      ]
     },
     "metadata": {},
     "output_type": "display_data"
    }
   ],
   "source": [
    "s = ktest\n",
    "k = 'etavpt'+s+'corr'\n",
    "#h[k] = ROOT.TH2F(k, k, 50, pt_lo, pt_hi, 48, -eta_edge, eta_edge)\n",
    "h[k] = ROOT.TH2F(k, k, len(pt_bins)-1, array('d', pt_bins), 48, -eta_edge, eta_edge)\n",
    "c[k] = ROOT.TCanvas(k, k, 400, 400)\n",
    "i = 0\n",
    "for p,e in zip(pt[s], eta[s]):\n",
    "    #h[k].Fill(p, e)\n",
    "    h[k].Fill(p, e, get_ptetawgt(p, e, h['etavptrefotest']))\n",
    "    i += 1\n",
    "    #if i > 10000: break\n",
    "h[k].Draw('COL Z')\n",
    "c[k].Draw()\n",
    "#'''\n",
    "#'''\n",
    "k = 'etavptrefotest'+'corr'\n",
    "#h[k] = ROOT.TH2F(k, k, len(pt_bins)-1, array('d', pt_bins), 48, -eta_edge, eta_edge)\n",
    "c[k] = ROOT.TCanvas(k, k, 400, 400)\n",
    "h[k] = h['etavpt%s'%kref].Clone()\n",
    "h[k].SetName(k)\n",
    "h[k].SetTitle(k)\n",
    "h[k].Divide(h['etavpt%scorr'%ktest])\n",
    "#h[k].GetXaxis().SetRangeUser(10., 100.)\n",
    "h[k].SetMaximum(1.+0.1)\n",
    "h[k].SetMinimum(1.-0.1)\n",
    "h[k].Draw('COL Z')\n",
    "c[k].Draw()\n",
    "#'''"
   ]
  },
  {
   "cell_type": "code",
   "execution_count": 32,
   "metadata": {},
   "outputs": [
    {
     "name": "stdout",
     "output_type": "stream",
     "text": [
      "605472.433283\n",
      "16.1953830719\n",
      "34 0.17\n",
      "0.07 0.27\n",
      "chi2 / ndf: 43.570225 / 14.000000 = 3.112159\n",
      "!!! EOYnopucorr: mean:171.311830 MeV, sigma:40.241587 MeV\n",
      "606232.0\n",
      "28.0\n",
      "34 0.17\n",
      "0.07 0.27\n",
      "chi2 / ndf: 24.723977 / 14.000000 = 1.765998\n",
      "!!! SOY: mean:169.618873 MeV, sigma:38.722820 MeV\n",
      " FCN=43.5702 FROM MIGRAD    STATUS=CONVERGED     596 CALLS         597 TOTAL\n",
      "                     EDM=1.96776e-10    STRATEGY= 1  ERROR MATRIX UNCERTAINTY   1.7 per cent\n",
      "  EXT PARAMETER                                   STEP         FIRST   \n",
      "  NO.   NAME      VALUE            ERROR          SIZE      DERIVATIVE \n",
      "   1  sg-cons      4.74420e+03   4.98344e+01   3.31405e-02  -5.77322e-07\n",
      "   2  sg-mean      1.71312e-01   4.13551e-04   2.76732e-06   9.04865e-04\n",
      "   3  sg-sigma     4.02416e-02   6.31483e-04  -4.01453e-06  -2.62518e-03\n",
      "   4  bg-x0        6.89623e+03   7.31012e+01   5.99269e-03  -1.05917e-06\n",
      "   5  bg-x1       -1.46718e+03   3.25099e+02  -1.30684e-01  -9.53018e-08\n",
      "   6  bg-x2        9.94285e-08   7.10858e-01  -5.59214e-08** at limit **\n",
      " FCN=24.724 FROM MIGRAD    STATUS=CONVERGED     590 CALLS         591 TOTAL\n",
      "                     EDM=2.64302e-10    STRATEGY= 1  ERROR MATRIX UNCERTAINTY   2.6 per cent\n",
      "  EXT PARAMETER                                   STEP         FIRST   \n",
      "  NO.   NAME      VALUE            ERROR          SIZE      DERIVATIVE \n",
      "   1  sg-cons      4.75174e+03   7.21597e+01  -5.11590e-02   3.19025e-07\n",
      "   2  sg-mean      1.69619e-01   6.04703e-04  -8.43714e-06   1.59231e-03\n",
      "   3  sg-sigma     3.87228e-02   8.84472e-04  -1.32912e-05   3.70111e-03\n",
      "   4  bg-x0        7.16653e+03   1.12240e+02   2.69601e-02   1.07100e-06\n",
      "   5  bg-x1       -2.97827e+03   4.82683e+02   2.58024e-01   1.94621e-07\n",
      "   6  bg-x2        4.98769e-07   7.10665e-01  -9.05732e-09   2.78120e-08\n"
     ]
    },
    {
     "name": "stderr",
     "output_type": "stream",
     "text": [
      "Warning in <TCanvas::Constructor>: Deleting canvas with same name: EOYnopucorr\n",
      "Info in <ROOT::Math::ParameterSettings>: lower/upper bounds outside current parameter value. The value will be set to (low+up)/2 \n",
      "Warning in <TROOT::Append>: Replacing existing TH1: SOY (Potential memory leak).\n",
      "Warning in <TROOT::Append>: Replacing existing TH1: SOYpu (Potential memory leak).\n",
      "Info in <ROOT::Math::ParameterSettings>: lower/upper bounds outside current parameter value. The value will be set to (low+up)/2 \n"
     ]
    },
    {
     "data": {
      "image/png": "[encoded data removed]",
      "text/plain": [
       "<IPython.core.display.Image object>"
      ]
     },
     "metadata": {},
     "output_type": "display_data"
    },
    {
     "data": {
      "image/png": "[encoded data removed]",
      "text/plain": [
       "<IPython.core.display.Image object>"
      ]
     },
     "metadata": {},
     "output_type": "display_data"
    }
   ],
   "source": [
    "#h, c = {}, {}\n",
    "\n",
    "#dM = 25\n",
    "dM = 10\n",
    "#dM = 100\n",
    "ma_bins = np.arange(0,1400+dM,dM)-200\n",
    "#ma_bins = np.arange(150,350+dM,dM)-200\n",
    "#ma_bins = list(range(0,1200+dM,dM))\n",
    "#ma_bins = [-400]+ma_bins\n",
    "#ma_bins = [-400, -200]+ma_bins\n",
    "ma_bins = [float(m)/1.e3 for m in ma_bins]\n",
    "ma_bins = ma_bins[4:]\n",
    "#print(len(ma_bins))\n",
    "n_ma_bins = len(ma_bins)-1\n",
    "ma_bins = array('d', ma_bins)\n",
    "#print(ma_bins)\n",
    "\n",
    "pu_dummy = 20.\n",
    "\n",
    "#k = kmc+'nopucorr'\n",
    "k = ktest+'nopucorr'\n",
    "#h[k] = ROOT.TH1F(k, k, 48, 0., 1.2)\n",
    "#h[k] = ROOT.TH1F(k, k, 56, -0.2, 1.2)\n",
    "h[k] = ROOT.TH1F(k, k, n_ma_bins, ma_bins)\n",
    "c[k] = ROOT.TCanvas(k, k, 400, 400)\n",
    "kpu = k+'pu'\n",
    "h[kpu] = ROOT.TH1F(kpu, kpu, 20, 0., 100.)\n",
    "#for i,m in enumerate(ma[kmc]):\n",
    "for i,m in enumerate(ma[ktest]):\n",
    "    #if i+1 >= 100000: break\n",
    "    #h[k].Fill(m)\n",
    "    #wgt = get_ptetawgt(pt[kmc][i], eta[kmc][i], h['etavptdataomc'])\n",
    "    wgt = get_ptetawgt(pt[ktest][i], eta[ktest][i], h['etavptrefotest'])\n",
    "    h[k].Fill(m, wgt)\n",
    "    #h[kpu].Fill(pu[kmc][i], wgt)\n",
    "    h[kpu].Fill(pu_dummy, wgt)\n",
    "h[k].Draw(\"hist\")\n",
    "c[k].cd()\n",
    "c[k].Draw()\n",
    "print(h[k].Integral())\n",
    "print(h[k].GetBinContent(1))\n",
    "fit_sg_bg(h, k)\n",
    "\n",
    "#k = kdata\n",
    "k = kref\n",
    "#h[k] = ROOT.TH1F(k, k, 48, 0., 1.2)\n",
    "#h[k] = ROOT.TH1F(k, k, 56, -0.2, 1.2)\n",
    "h[k] = ROOT.TH1F(k, k, n_ma_bins, ma_bins)\n",
    "#c[k] = ROOT.TCanvas(k, k, 600, 400)\n",
    "kpu = k+'pu'\n",
    "h[kpu] = ROOT.TH1F(kpu, kpu, 20, 0., 100.)\n",
    "for i,m in enumerate(ma[k]):\n",
    "    #if i+1 >= 100000: break\n",
    "    h[k].Fill(m)\n",
    "    #h[kpu].Fill(pu[k][i])\n",
    "    h[kpu].Fill(pu_dummy)\n",
    "#h[k].Draw(\"hist\")\n",
    "h[k].Draw(\"hist same\")\n",
    "#c[k].Draw()\n",
    "print(h[k].Integral())\n",
    "print(h[k].GetBinContent(1))\n",
    "fit_sg_bg(h, k)"
   ]
  },
  {
   "cell_type": "code",
   "execution_count": 33,
   "metadata": {},
   "outputs": [
    {
     "data": {
      "text/plain": [
       "'\\n607155.994072\\n24.5650863647\\n33 0.16\\n0.06 0.26\\nchi2 / ndf: 18.333664 / 14.000000 = 1.309547\\n!!! MOYnopucorr: mean:168.253538 MeV, sigma:37.212741 MeV\\n606232.0\\n28.0\\n34 0.17\\n0.07 0.27\\nchi2 / ndf: 24.723977 / 14.000000 = 1.765998\\n!!! SOY: mean:169.618873 MeV, sigma:38.722820 MeV\\n'"
      ]
     },
     "execution_count": 33,
     "metadata": {},
     "output_type": "execute_result"
    }
   ],
   "source": [
    "'''\n",
    "607155.994072\n",
    "24.5650863647\n",
    "33 0.16\n",
    "0.06 0.26\n",
    "chi2 / ndf: 18.333664 / 14.000000 = 1.309547\n",
    "!!! MOYnopucorr: mean:168.253538 MeV, sigma:37.212741 MeV\n",
    "606232.0\n",
    "28.0\n",
    "34 0.17\n",
    "0.07 0.27\n",
    "chi2 / ndf: 24.723977 / 14.000000 = 1.765998\n",
    "!!! SOY: mean:169.618873 MeV, sigma:38.722820 MeV\n",
    "'''"
   ]
  },
  {
   "cell_type": "code",
   "execution_count": 34,
   "metadata": {},
   "outputs": [
    {
     "name": "stdout",
     "output_type": "stream",
     "text": [
      "11611.0\n",
      "34\n",
      "17\n",
      "array('d', [-0.16, -0.15, -0.14, -0.13, -0.12, -0.11, -0.1, -0.09, -0.08, -0.07, -0.06, -0.05, -0.04, -0.03, -0.02, -0.01, 0.0, 0.01, 0.02, 0.03, 0.04, 0.05, 0.06, 0.07, 0.08, 0.09, 0.1, 0.11, 0.12, 0.13, 0.14, 0.15, 0.16, 0.17, 0.18, 0.19, 0.2, 0.21, 0.22, 0.23, 0.24, 0.25, 0.26, 0.27, 0.28, 0.29, 0.3, 0.31, 0.32, 0.33, 0.34, 0.35, 0.36, 0.37, 0.38, 0.39, 0.4, 0.41, 0.42, 0.43, 0.44, 0.45, 0.46, 0.47, 0.48, 0.49, 0.5, 0.51, 0.52, 0.53, 0.54, 0.55, 0.56, 0.57, 0.58, 0.59, 0.6, 0.61, 0.62, 0.63, 0.64, 0.65, 0.66, 0.67, 0.68, 0.69, 0.7, 0.71, 0.72, 0.73, 0.74, 0.75, 0.76, 0.77, 0.78, 0.79, 0.8, 0.81, 0.82, 0.83, 0.84, 0.85, 0.86, 0.87, 0.88, 0.89, 0.9, 0.91, 0.92, 0.93, 0.94, 0.95, 0.96, 0.97, 0.98, 0.99, 1.0, 1.01, 1.02, 1.03, 1.04, 1.05, 1.06, 1.07, 1.08, 1.09, 1.1, 1.11, 1.12, 1.13, 1.14, 1.15, 1.16, 1.17, 1.18, 1.19, 1.2])\n",
      "0.04\n",
      "0.08\n",
      "0.12\n",
      "array('d', [0.1, 0.11, 0.12, 0.13, 0.14, 0.15, 0.16, 0.17, 0.18, 0.19, 0.2, 0.21, 0.22, 0.23, 0.24, 0.25, 0.26, 0.27, 0.28, 0.29, 0.3])\n"
     ]
    }
   ],
   "source": [
    "print(h[kref].GetMaximum())\n",
    "print(h[kref].GetMaximumBin())\n",
    "print(h[kref].GetXaxis().FindBin(0.))\n",
    "print(ma_bins)\n",
    "print(ma_bins[21-1])\n",
    "print(ma_bins[25-1])\n",
    "print(ma_bins[25+4-1])\n",
    "#print(ma_bins[10:34])\n",
    "print(ma_bins[26:47])"
   ]
  },
  {
   "cell_type": "code",
   "execution_count": 35,
   "metadata": {},
   "outputs": [
    {
     "name": "stderr",
     "output_type": "stream",
     "text": [
      "Warning in <TCanvas::Constructor>: Deleting canvas with same name: SOYpu\n",
      "Warning in <TCanvas::Constructor>: Deleting canvas with same name: purefotest\n"
     ]
    },
    {
     "data": {
      "image/png": "[encoded data removed]",
      "text/plain": [
       "<IPython.core.display.Image object>"
      ]
     },
     "metadata": {},
     "output_type": "display_data"
    },
    {
     "data": {
      "image/png": "[encoded data removed]",
      "text/plain": [
       "<IPython.core.display.Image object>"
      ]
     },
     "metadata": {},
     "output_type": "display_data"
    },
    {
     "data": {
      "image/png": "[encoded data removed]",
      "text/plain": [
       "<IPython.core.display.Image object>"
      ]
     },
     "metadata": {},
     "output_type": "display_data"
    }
   ],
   "source": [
    "k = ktest+'nopucorr'\n",
    "kpu = k+'pu'\n",
    "c[kpu] = ROOT.TCanvas(kpu, kpu, 400, 400)\n",
    "h[kpu].Draw(\"hist\")\n",
    "c[kpu].Draw()\n",
    "\n",
    "k = kref\n",
    "kpu = k+'pu'\n",
    "c[kpu] = ROOT.TCanvas(kpu, kpu, 400, 400)\n",
    "h[kpu].Draw(\"hist\")\n",
    "c[kpu].Draw()\n",
    "\n",
    "#k = 'pudataomc'\n",
    "k = 'purefotest'\n",
    "c[k] = ROOT.TCanvas(k, k, 400, 400)\n",
    "h[k] = h['%spu'%kref].Clone()\n",
    "h[k].SetName(k)\n",
    "h[k].SetTitle(k)\n",
    "h[k].Divide(h[ktest+'nopucorr'+'pu'])\n",
    "h[k].Draw('hist')\n",
    "c[k].Draw()"
   ]
  },
  {
   "cell_type": "code",
   "execution_count": 36,
   "metadata": {},
   "outputs": [],
   "source": [
    "def get_puwgt(pu_, h):\n",
    "    ipu_ = h.GetXaxis().FindBin(pu_)\n",
    "    wgt = h.GetBinContent(ipu_)\n",
    "    #return wgt\n",
    "    return 1."
   ]
  },
  {
   "cell_type": "code",
   "execution_count": 37,
   "metadata": {},
   "outputs": [
    {
     "name": "stdout",
     "output_type": "stream",
     "text": [
      "606232\n",
      "1566328 1566328\n",
      "[0.39590853452682495, 0.41642042994499207, 0.4047442674636841, 0.398477166891098, 0.40665480494499207]\n"
     ]
    }
   ],
   "source": [
    "hdata, _ = np.histogram(ma[kref], bins=ma_bins)\n",
    "print(hdata.sum())\n",
    "\n",
    "dywgts_pteta_pu = [get_ptetawgt(pt[ktest][i], eta[ktest][i], h['etavptrefotest'])*get_puwgt(pu[ktest][i], h['purefotest']) for i,_ in enumerate(ma[ktest])]\n",
    "print(len(dywgts_pteta_pu), len(ma[ktest]))\n",
    "print(dywgts_pteta_pu[:5])"
   ]
  },
  {
   "cell_type": "code",
   "execution_count": 38,
   "metadata": {},
   "outputs": [
    {
     "name": "stdout",
     "output_type": "stream",
     "text": [
      "['EOYnopucorr', 'EOYnopucorrpu', 'SOYbg', 'EOYnopucorrcombo', 'MOYcombo', 'EOYnopucorrbg', 'MOYnopucorr', 'MOYnopucorrpu', 'SOY', 'etavptrefotest', 'MOYbg', 'etavptMOY', 'MOYnopucorrbg', 'etavptSOY', 'MOYsg', 'etavptEOYcorr', 'SOYpu', 'SOYcombo', 'SOYsg', 'EOYnopucorrsg', 'MOY', 'MOYnopucorrsg', 'purefotest', 'etavptrefotestcorr', 'etavptEOY', 'MOYnopucorrcombo', 'etavptMOYcorr']\n"
     ]
    }
   ],
   "source": [
    "print(h.keys())"
   ]
  },
  {
   "cell_type": "code",
   "execution_count": 39,
   "metadata": {},
   "outputs": [
    {
     "name": "stdout",
     "output_type": "stream",
     "text": [
      "605472.433283\n",
      "606232.0\n",
      "16.1953830719\n",
      "34 0.17\n",
      "0.07 0.27\n",
      "chi2 / ndf: 43.570225 / 14.000000 = 3.112159\n",
      "!!! EOY: mean:171.311830 MeV, sigma:40.241587 MeV\n",
      " FCN=43.5702 FROM MIGRAD    STATUS=CONVERGED     596 CALLS         597 TOTAL\n",
      "                     EDM=1.96776e-10    STRATEGY= 1  ERROR MATRIX UNCERTAINTY   1.7 per cent\n",
      "  EXT PARAMETER                                   STEP         FIRST   \n",
      "  NO.   NAME      VALUE            ERROR          SIZE      DERIVATIVE \n",
      "   1  sg-cons      4.74420e+03   4.98344e+01   3.31405e-02  -5.77322e-07\n",
      "   2  sg-mean      1.71312e-01   4.13551e-04   2.76732e-06   9.04865e-04\n",
      "   3  sg-sigma     4.02416e-02   6.31483e-04  -4.01453e-06  -2.62518e-03\n",
      "   4  bg-x0        6.89623e+03   7.31012e+01   5.99269e-03  -1.05917e-06\n",
      "   5  bg-x1       -1.46718e+03   3.25099e+02  -1.30684e-01  -9.53018e-08\n",
      "   6  bg-x2        9.94285e-08   7.10858e-01  -5.59214e-08** at limit **\n"
     ]
    },
    {
     "name": "stderr",
     "output_type": "stream",
     "text": [
      "Warning in <TCanvas::Constructor>: Deleting canvas with same name: EOY\n",
      "Info in <ROOT::Math::ParameterSettings>: lower/upper bounds outside current parameter value. The value will be set to (low+up)/2 \n"
     ]
    },
    {
     "data": {
      "image/png": "[encoded data removed]",
      "text/plain": [
       "<IPython.core.display.Image object>"
      ]
     },
     "metadata": {},
     "output_type": "display_data"
    }
   ],
   "source": [
    "k = ktest\n",
    "scale_ = 1.#028\n",
    "smear_ = 0.#008 #GeV\n",
    "h[k] = ROOT.TH1F(k, k, n_ma_bins, ma_bins)\n",
    "c[k] = ROOT.TCanvas(k, k, 400, 400)\n",
    "for i,m in enumerate(ma[k]):\n",
    "    wgt = get_ptetawgt(pt[k][i], eta[k][i], h['etavptrefotest'])*get_puwgt(pu[k][i], h['purefotest'])\n",
    "    h[k].Fill(m, wgt)\n",
    "    #h[k].Fill(scale_*np.random.normal(m, smear_), wgt)\n",
    "h[k].Draw(\"hist\")\n",
    "c[k].cd()\n",
    "c[k].Draw()\n",
    "print(h[k].Integral())\n",
    "print(h[kref].Integral())\n",
    "print(h[k].GetBinContent(1))\n",
    "fit_sg_bg(h, k)"
   ]
  },
  {
   "cell_type": "code",
   "execution_count": 40,
   "metadata": {},
   "outputs": [
    {
     "data": {
      "text/plain": [
       "'\\nchi2 / ndf: 24.723977 / 14.000000 = 1.765998\\n!!! SOY: mean:169.618873 MeV, sigma:38.722820 MeV\\n FCN=24.724 FROM MIGRAD    STATUS=CONVERGED     590 CALLS         591 TOTAL\\n                     EDM=2.64302e-10    STRATEGY= 1  ERROR MATRIX UNCERTAINTY   2.6 per cent\\n  EXT PARAMETER                                   STEP         FIRST   \\n  NO.   NAME      VALUE            ERROR          SIZE      DERIVATIVE \\n   1  sg-cons      4.75174e+03   7.21597e+01  -5.11590e-02   3.19025e-07\\n   2  sg-mean      1.69619e-01   6.04703e-04  -8.43714e-06   1.59231e-03\\n   3  sg-sigma     3.87228e-02   8.84472e-04  -1.32912e-05   3.70111e-03\\n   4  bg-x0        7.16653e+03   1.12240e+02   2.69601e-02   1.07100e-06\\n   5  bg-x1       -2.97827e+03   4.82683e+02   2.58024e-01   1.94621e-07\\n   6  bg-x2        4.98769e-07   7.10665e-01  -9.05732e-09   2.78120e-08\\n\\nchi2 / ndf: 18.333664 / 14.000000 = 1.309547\\n!!! MOY: mean:168.253538 MeV, sigma:37.212741 MeV\\n FCN=18.3337 FROM MIGRAD    STATUS=CONVERGED     718 CALLS         719 TOTAL\\n                     EDM=8.57664e-07    STRATEGY= 1      ERROR MATRIX ACCURATE \\n  EXT PARAMETER                                   STEP         FIRST   \\n  NO.   NAME      VALUE            ERROR          SIZE      DERIVATIVE \\n   1  sg-cons      4.62661e+03   7.60921e+01   9.08649e-02  -3.45322e-06\\n   2  sg-mean      1.68254e-01   6.44189e-04   2.08406e-05   1.12037e-01\\n   3  sg-sigma     3.72127e-02   9.02574e-04   1.58157e-05   6.42683e-02\\n   4  bg-x0        7.29232e+03   8.85459e+01   4.75756e-02   1.04273e-05\\n   5  bg-x1       -2.13982e+03   5.40853e+02   2.79015e-01   3.89260e-06\\n   6  bg-x2        6.70880e-07   6.80960e-01   4.52658e-01   2.35890e-08\\n\\nchi2 / ndf: 43.570225 / 14.000000 = 3.112159\\n!!! EOY: mean:171.311830 MeV, sigma:40.241587 MeV\\n FCN=43.5702 FROM MIGRAD    STATUS=CONVERGED     596 CALLS         597 TOTAL\\n                     EDM=1.96776e-10    STRATEGY= 1  ERROR MATRIX UNCERTAINTY   1.7 per cent\\n  EXT PARAMETER                                   STEP         FIRST   \\n  NO.   NAME      VALUE            ERROR          SIZE      DERIVATIVE \\n   1  sg-cons      4.74420e+03   4.98344e+01   3.31405e-02  -5.77322e-07\\n   2  sg-mean      1.71312e-01   4.13551e-04   2.76732e-06   9.04865e-04\\n   3  sg-sigma     4.02416e-02   6.31483e-04  -4.01453e-06  -2.62518e-03\\n   4  bg-x0        6.89623e+03   7.31012e+01   5.99269e-03  -1.05917e-06\\n   5  bg-x1       -1.46718e+03   3.25099e+02  -1.30684e-01  -9.53018e-08\\n   6  bg-x2        9.94285e-08   7.10858e-01  -5.59214e-08** at limit **\\n'"
      ]
     },
     "execution_count": 40,
     "metadata": {},
     "output_type": "execute_result"
    }
   ],
   "source": [
    "'''\n",
    "chi2 / ndf: 24.723977 / 14.000000 = 1.765998\n",
    "!!! SOY: mean:169.618873 MeV, sigma:38.722820 MeV\n",
    " FCN=24.724 FROM MIGRAD    STATUS=CONVERGED     590 CALLS         591 TOTAL\n",
    "                     EDM=2.64302e-10    STRATEGY= 1  ERROR MATRIX UNCERTAINTY   2.6 per cent\n",
    "  EXT PARAMETER                                   STEP         FIRST   \n",
    "  NO.   NAME      VALUE            ERROR          SIZE      DERIVATIVE \n",
    "   1  sg-cons      4.75174e+03   7.21597e+01  -5.11590e-02   3.19025e-07\n",
    "   2  sg-mean      1.69619e-01   6.04703e-04  -8.43714e-06   1.59231e-03\n",
    "   3  sg-sigma     3.87228e-02   8.84472e-04  -1.32912e-05   3.70111e-03\n",
    "   4  bg-x0        7.16653e+03   1.12240e+02   2.69601e-02   1.07100e-06\n",
    "   5  bg-x1       -2.97827e+03   4.82683e+02   2.58024e-01   1.94621e-07\n",
    "   6  bg-x2        4.98769e-07   7.10665e-01  -9.05732e-09   2.78120e-08\n",
    "\n",
    "chi2 / ndf: 18.333664 / 14.000000 = 1.309547\n",
    "!!! MOY: mean:168.253538 MeV, sigma:37.212741 MeV\n",
    " FCN=18.3337 FROM MIGRAD    STATUS=CONVERGED     718 CALLS         719 TOTAL\n",
    "                     EDM=8.57664e-07    STRATEGY= 1      ERROR MATRIX ACCURATE \n",
    "  EXT PARAMETER                                   STEP         FIRST   \n",
    "  NO.   NAME      VALUE            ERROR          SIZE      DERIVATIVE \n",
    "   1  sg-cons      4.62661e+03   7.60921e+01   9.08649e-02  -3.45322e-06\n",
    "   2  sg-mean      1.68254e-01   6.44189e-04   2.08406e-05   1.12037e-01\n",
    "   3  sg-sigma     3.72127e-02   9.02574e-04   1.58157e-05   6.42683e-02\n",
    "   4  bg-x0        7.29232e+03   8.85459e+01   4.75756e-02   1.04273e-05\n",
    "   5  bg-x1       -2.13982e+03   5.40853e+02   2.79015e-01   3.89260e-06\n",
    "   6  bg-x2        6.70880e-07   6.80960e-01   4.52658e-01   2.35890e-08\n",
    "\n",
    "chi2 / ndf: 43.570225 / 14.000000 = 3.112159\n",
    "!!! EOY: mean:171.311830 MeV, sigma:40.241587 MeV\n",
    " FCN=43.5702 FROM MIGRAD    STATUS=CONVERGED     596 CALLS         597 TOTAL\n",
    "                     EDM=1.96776e-10    STRATEGY= 1  ERROR MATRIX UNCERTAINTY   1.7 per cent\n",
    "  EXT PARAMETER                                   STEP         FIRST   \n",
    "  NO.   NAME      VALUE            ERROR          SIZE      DERIVATIVE \n",
    "   1  sg-cons      4.74420e+03   4.98344e+01   3.31405e-02  -5.77322e-07\n",
    "   2  sg-mean      1.71312e-01   4.13551e-04   2.76732e-06   9.04865e-04\n",
    "   3  sg-sigma     4.02416e-02   6.31483e-04  -4.01453e-06  -2.62518e-03\n",
    "   4  bg-x0        6.89623e+03   7.31012e+01   5.99269e-03  -1.05917e-06\n",
    "   5  bg-x1       -1.46718e+03   3.25099e+02  -1.30684e-01  -9.53018e-08\n",
    "   6  bg-x2        9.94285e-08   7.10858e-01  -5.59214e-08** at limit **\n",
    "'''"
   ]
  },
  {
   "cell_type": "code",
   "execution_count": 41,
   "metadata": {},
   "outputs": [],
   "source": [
    "import CMS_lumi, tdrstyle\n",
    "\n",
    "ROOT.gStyle.SetPadTickX(1)\n",
    "ROOT.gStyle.SetPadTickY(1)\n",
    "#change the CMS_lumi variables (see CMS_lumi.py)\n",
    "CMS_lumi.lumi_7TeV = \"4.8 fb^{-1}\"\n",
    "CMS_lumi.lumi_8TeV = \"18.3 fb^{-1}\"\n",
    "CMS_lumi.writeExtraText = 1\n",
    "CMS_lumi.extraText = \"Preliminary\"\n",
    "CMS_lumi.cmsTextOffset = 0.1\n",
    "CMS_lumi.lumiTextSize = 0.6\n",
    "CMS_lumi.cmsTextSize = 0.75\n",
    "iPos = 11\n",
    "#iPos = 0\n",
    "if( iPos==0 ): CMS_lumi.relPosX = 0.19\n",
    "iPeriod = 0\n",
    "\n",
    "wd, ht = int(440*1), int(400*1)\n",
    "wd, ht = int(467*1), int(400*1)\n",
    "wd, ht = int(495*1), int(400*1)\n",
    "wd, ht = int(800*1), int(400*1)\n",
    "#wd, ht = int(400*1), int(400*1)\n",
    "wd, ht = int(679*1), int(680*1)\n",
    "\n",
    "#plot_dir = 'Plots/massreg/draft5/chisolt0p3_sieielt0p13'\n",
    "plot_dir = 'Plots/massreg/v20/chisolt0p3_sieielt0p13'\n",
    "#plot_dir = 'Plots/h4g'\n",
    "print_pdf = True #False #True\n",
    "\n",
    "if not os.path.exists(plot_dir):\n",
    "    os.makedirs(plot_dir)"
   ]
  },
  {
   "cell_type": "code",
   "execution_count": 49,
   "metadata": {
    "scrolled": false
   },
   "outputs": [
    {
     "name": "stdout",
     "output_type": "stream",
     "text": [
      "41.5 fb^{-1} (13 TeV)\n",
      "test\n"
     ]
    },
    {
     "name": "stderr",
     "output_type": "stream",
     "text": [
      "Warning in <TCanvas::Constructor>: Deleting canvas with same name: cSOY\n",
      "Info in <TCanvas::Print>: pdf file Plots/massreg/v20/chisolt0p3_sieielt0p13/pi0-2017SOYvsMOYvsEOY_ma1_ptetarewgt.pdf has been created\n"
     ]
    },
    {
     "data": {
      "image/png": "[encoded data removed]",
      "text/plain": [
       "<IPython.core.display.Image object>"
      ]
     },
     "metadata": {},
     "output_type": "display_data"
    }
   ],
   "source": [
    "from hist_utils import set_hist as set_hist_ratio\n",
    "hc = {}\n",
    "\n",
    "do_trunc = True\n",
    "#do_trunc = False\n",
    "\n",
    "ROOT.gStyle.SetPadTickX(1)\n",
    "ROOT.gStyle.SetPadTickY(1)\n",
    "#change the CMS_lumi variables (see CMS_lumi.py)\n",
    "CMS_lumi.lumi_7TeV = \"4.8 fb^{-1}\"\n",
    "CMS_lumi.lumi_8TeV = \"18.3 fb^{-1}\"\n",
    "CMS_lumi.writeExtraText = 1\n",
    "CMS_lumi.extraText = \"\"#\"Preliminary\"\n",
    "#CMS_lumi.lumi_sqrtS = \"41.9 fb^{-1} (13 TeV)\" # used with iPeriod = 0, e.g. for simulation-only plots (default is an empty string)\n",
    "#CMS_lumi.lumi_sqrtS = \"13 TeV\" # used with iPeriod = 0, e.g. for simulation-only plots (default is an empty string)\n",
    "CMS_lumi.lumi_sqrtS = \"41.5 fb^{-1} (13 TeV)\" # used with iPeriod = 0, e.g. for simulation-only plots (default is an empty string)\n",
    "iPos = 11\n",
    "iPos = 0\n",
    "if iPos==0:\n",
    "    CMS_lumi.cmsTextOffset = 0.11\n",
    "    CMS_lumi.relPosX = 0.15\n",
    "else:\n",
    "    CMS_lumi.cmsTextOffset = 0.\n",
    "    CMS_lumi.relPosX = 0.045\n",
    "iPeriod = 0\n",
    "\n",
    "err_style = 'E2'\n",
    "fill_style = 3002\n",
    "marker_size = 0.75 #0.6\n",
    "#wd, ht = int(640*1), int(680*1)\n",
    "ROOT.TGaxis.fgMaxDigits = 3\n",
    "ROOT.gStyle.SetErrorX(0)\n",
    "ROOT.gStyle.SetOptStat(0)\n",
    "\n",
    "kSOY = 'SOY'\n",
    "k = kSOY\n",
    "c[k] = ROOT.TCanvas(\"c%s\"%k,\"c%s\"%k,wd,ht)\n",
    "\n",
    "pUp = ROOT.TPad(\"upperPad\", \"upperPad\",.005, .300, .995, .995) # (,,Double_t xlow, Double_t ylow, Double_t xup, Double_t yup,...)\n",
    "pDn = ROOT.TPad(\"lowerPad\", \"lowerPad\",.005, .005, .995, .300)\n",
    "pUp.Draw()\n",
    "pDn.Draw()\n",
    "#pUp.SetMargin(14.e-02,3.e-02,2.e-02,9.e-02) # (Float_t left, Float_t right, Float_t bottom, Float_t top)\n",
    "#pDn.SetMargin(14.e-02,3.e-02,36.e-02,2.e-02) # (Float_t left, Float_t right, Float_t bottom, Float_t top)\n",
    "pUp.SetMargin(19.e-02,3.e-02,2.e-02,9.e-02) # (Float_t left, Float_t right, Float_t bottom, Float_t top)\n",
    "pDn.SetMargin(19.e-02,3.e-02,36.e-02,2.e-02) # (Float_t left, Float_t right, Float_t bottom, Float_t top)\n",
    "\n",
    "pUp.cd()\n",
    "\n",
    "# dummy hist for drawing axes\n",
    "hdummy = h[k].Clone()\n",
    "hdummy.Reset()\n",
    "hdummy.SetName('dummy')\n",
    "#hdummy = set_hist(hdummy, \"m_{e,pred} [GeV]\", \"N_{a}\", \"\")\n",
    "hdummy = set_hist_ratio(hdummy, \"m_{#Gamma} [GeV]\", \"f_{#Gamma}\", \"\")\n",
    "#hdummy.GetYaxis().SetTitle('Normalized units / %d MeV'%dM)\n",
    "hdummy.GetYaxis().SetTitle('Normalized units / %.2f GeV'%(dM/1.e3))\n",
    "hdummy.GetXaxis().SetTitle('')\n",
    "hdummy.GetXaxis().SetLabelSize(0.)\n",
    "hdummy.GetYaxis().SetTitleOffset(1.05)\n",
    "hdummy.GetYaxis().SetTitleSize(0.07) #0.06\n",
    "hdummy.GetYaxis().SetLabelSize(0.06)\n",
    "hdummy.GetYaxis().SetMaxDigits(3)\n",
    "hdummy.GetYaxis().SetLabelFont(42)\n",
    "hdummy.GetYaxis().SetTitleFont(42)\n",
    "hdummy.GetYaxis().SetLabelOffset(.01)\n",
    "hdummy.SetLineColor(0)\n",
    "hdummy.Draw(\"hist\")\n",
    "\n",
    "ROOT.gStyle.SetOptStat(0)\n",
    "# Plot SOY as fill area\n",
    "ks = kSOY\n",
    "if h[ks].Integral() > 1:\n",
    "    #h[ks].Scale(1./h[ks].GetEntries())\n",
    "    h[ks].Scale(1./h[ks].Integral())\n",
    "'''\n",
    "# fill\n",
    "h[ks].SetLineColor(1)#14\n",
    "h[ks].SetFillColor(1)#14\n",
    "h[ks].SetFillStyle(fill_style)\n",
    "h[ks].SetName(ks+'fill')\n",
    "h[ks].SetStats(0)\n",
    "h[ks].Draw(\"%s same\"%err_style)\n",
    "# line\n",
    "hc[ks] = h[ks].Clone()\n",
    "hc[ks].SetLineColor(1)#14\n",
    "hc[ks].SetFillColor(1)#14\n",
    "hc[ks].SetFillStyle(0)\n",
    "hc[ks].SetName(ks)\n",
    "hc[ks].SetStats(0)\n",
    "hc[ks].Draw(\"hist same\")\n",
    "'''\n",
    "# points\n",
    "h[ks].SetLineColor(14)#1\n",
    "h[ks].SetMarkerColor(14)#1\n",
    "h[ks].SetMarkerStyle(24) #2\n",
    "h[ks].SetMarkerSize(marker_size)\n",
    "h[ks].SetName(ks)\n",
    "h[ks].SetStats(0)\n",
    "h[ks].Draw(\"E0p same\")\n",
    "\n",
    "ROOT.gStyle.SetOptStat(0)\n",
    "# Plot MOY as err band\n",
    "kMOY = 'MOY'\n",
    "km = kMOY\n",
    "if h[km].Integral() > 1:\n",
    "    #h[km].Scale(1./h[km].GetEntries())\n",
    "    h[km].Scale(1./h[km].Integral())\n",
    "'''\n",
    "# fill\n",
    "h[km].SetLineColor(2)#14\n",
    "h[km].SetFillColor(2)#14\n",
    "h[km].SetFillStyle(fill_style)\n",
    "h[km].SetName(km+'fill')\n",
    "h[km].SetStats(0)\n",
    "h[km].Draw(\"%s same\"%err_style)\n",
    "# line\n",
    "hc[km] = h[km].Clone()\n",
    "hc[km].SetLineColor(2)#14\n",
    "hc[km].SetFillColor(2)#14\n",
    "hc[km].SetFillStyle(0)\n",
    "hc[km].SetName(km)\n",
    "hc[km].SetStats(0)\n",
    "hc[km].Draw(\"hist same\")\n",
    "'''\n",
    "# points\n",
    "h[km].SetLineColor(9)#14\n",
    "h[km].SetMarkerColor(9)#14\n",
    "h[km].SetMarkerStyle(25) #20,2\n",
    "h[km].SetMarkerSize(marker_size)\n",
    "h[km].SetName(km)\n",
    "h[km].SetStats(0)\n",
    "h[km].Draw(\"E0p same\")\n",
    "#'''\n",
    "#'''\n",
    "ROOT.gStyle.SetOptStat(0)\n",
    "# Plot EOY as err band\n",
    "kEOY = 'EOY'\n",
    "kl = kEOY\n",
    "if h[kl].Integral() > 1:\n",
    "    #h[kl].Scale(1./h[kl].GetEntries())\n",
    "    h[kl].Scale(1./h[kl].Integral())\n",
    "'''\n",
    "# fill\n",
    "h[kl].SetLineColor(9)#14\n",
    "h[kl].SetFillColor(9)#14\n",
    "h[kl].SetFillStyle(fill_style)\n",
    "h[kl].SetName(kl+'stat')\n",
    "h[kl].SetStats(0)\n",
    "h[kl].Draw(\"%s same\"%err_style)\n",
    "# line\n",
    "hc[kl] = h[kl].Clone()\n",
    "hc[kl].SetLineColor(9)#14\n",
    "hc[kl].SetFillColor(9)#14\n",
    "hc[kl].SetFillStyle(0)\n",
    "hc[kl].SetName(kl)\n",
    "hc[kl].SetStats(0)\n",
    "hc[kl].Draw(\"hist same\")\n",
    "'''\n",
    "# points\n",
    "h[kl].SetLineColor(2)#14\n",
    "h[kl].SetMarkerColor(2)#14\n",
    "h[kl].SetMarkerStyle(26) #24\n",
    "h[kl].SetMarkerSize(marker_size)\n",
    "h[kl].SetName(kl)\n",
    "h[kl].SetStats(0)\n",
    "h[kl].Draw(\"E0p same\")\n",
    "\n",
    "#ymax = 1.2*h[kref].GetMaximum()\n",
    "ymax = 0.021 #0.025 \n",
    "#ymax = 0.021\n",
    "ymin = 0.005 #0.002\n",
    "hdummy.GetYaxis().SetRangeUser(ymin, ymax)\n",
    "if do_trunc:\n",
    "    hdummy.GetXaxis().SetRangeUser(0., 0.7)#1.2)\n",
    "else:\n",
    "    hdummy.GetXaxis().SetRangeUser(-0.2, 1.2)\n",
    "ROOT.gPad.RedrawAxis()\n",
    "\n",
    "l, l2, hatch = {}, {}, {}\n",
    "legend = {}\n",
    "\n",
    "k = kSOY\n",
    "hatch[k] = ROOT.TGraph(2, array('d',[0.,0.]), array('d',[0.,ymax]));\n",
    "hatch[k].SetLineColor(14)\n",
    "hatch[k].SetLineWidth(5001)\n",
    "#hatch[k].SetLineWidth(5)\n",
    "hatch[k].SetFillStyle(3004)\n",
    "#hatch[k].SetFillColor(14)\n",
    "hatch[k].SetFillColor(12)\n",
    "#ROOT.gStyle.SetHatchesLineWidth(2)\n",
    "hatch[k].Draw(\"same\")\n",
    "\n",
    "#legend[k] = ROOT.TLegend(0.6,0.59,0.9,0.83) #(x1, y1, x2, y2)\n",
    "legend[k] = ROOT.TLegend(0.53,0.44,0.93,0.8) #(x1, y1, x2, y2)\n",
    "#legend[k].AddEntry(kdata+'errs', kdata, \"lep\")\n",
    "#legend[k].AddEntry(h[kmc].GetName(), kmc, \"f\")\n",
    "'''\n",
    "legend[k].AddEntry(kSOY, \"2017, start\", \"le\")\n",
    "legend[k].AddEntry(kMOY, \"2017, mid\",   \"le\")\n",
    "legend[k].AddEntry(kEOY, \"2017, end\",   \"le\")\n",
    "'''\n",
    "legend[k].AddEntry(kSOY, \"2017, start\", \"ep\")\n",
    "legend[k].AddEntry(kMOY, \"2017, mid\",   \"ep\")\n",
    "legend[k].AddEntry(kEOY, \"2017, end\",   \"ep\")\n",
    "legend[k].SetBorderSize(0)\n",
    "legend[k].SetTextFont(42)\n",
    "legend[k].Draw(\"same\")\n",
    "\n",
    "CMS_lumi.CMS_lumi(pUp, iPeriod, iPos)\n",
    "\n",
    "##### Ratio plots on lower pad #####\n",
    "pDn.cd()\n",
    "pDn.SetTicky()\n",
    "#pDn.SetGridy()\n",
    "#'''\n",
    "if do_trunc:\n",
    "    fUnity = ROOT.TF1(\"fUnity\",\"[0]\",0.,0.7)\n",
    "else:\n",
    "    fUnity = ROOT.TF1(\"fUnity\",\"[0]\",-0.2,1.2)\n",
    "fUnity.SetParameter( 0,1. )\n",
    "\n",
    "fUnity.GetXaxis().SetTitle(\"m_{#Gamma} [GeV]\")\n",
    "fUnity.GetXaxis().SetTickLength(0.1)\n",
    "fUnity.GetXaxis().SetTitleOffset(1.)\n",
    "fUnity.GetXaxis().SetTitleSize(0.17) #16\n",
    "fUnity.GetXaxis().SetLabelSize(0.14)\n",
    "#if not do_trunc:\n",
    "#    fUnity.GetXaxis().ChangeLabel(1,-1, 0,-1,-1,-1,\"\")\n",
    "#    fUnity.GetXaxis().ChangeLabel(2,-1,-1,-1,-1,-1,\"#font[22]{#gamma_{veto}}\")\n",
    "\n",
    "dY = 0.099\n",
    "#dY = 0.399\n",
    "#fUnity.GetYaxis().SetTitle(\"SB/SR\")\n",
    "#fUnity.GetYaxis().SetTitle(\"Data/MC\")\n",
    "#fUnity.GetYaxis().SetTitle(\"Mid (end) / start\")\n",
    "fUnity.GetYaxis().SetTitle(\"#frac{Mid. (end)}{Start}\")\n",
    "#fUnity.GetYaxis().SetRangeUser(1.-dY,1.+dY)\n",
    "fUnity.SetMaximum(1.+dY)\n",
    "fUnity.SetMinimum(1.-dY)\n",
    "fUnity.GetYaxis().SetNdivisions(305)\n",
    "fUnity.GetYaxis().SetTickLength(0.04)\n",
    "fUnity.GetYaxis().SetLabelFont(42)\n",
    "fUnity.GetYaxis().SetTitleFont(42)\n",
    "#fUnity.GetYaxis().SetTitleOffset(.4)\n",
    "#fUnity.GetYaxis().SetTitleSize(0.16)\n",
    "fUnity.GetYaxis().SetTitleOffset(.65)\n",
    "fUnity.GetYaxis().SetLabelOffset(.01)\n",
    "fUnity.GetYaxis().SetTitleSize(0.14)\n",
    "fUnity.GetYaxis().SetLabelSize(0.14)\n",
    "fUnity.GetXaxis().SetLabelFont(42)\n",
    "fUnity.GetXaxis().SetTitleFont(42)\n",
    "fUnity.GetXaxis().SetLabelOffset(.02)\n",
    "\n",
    "fUnity.SetLineColor(9)\n",
    "fUnity.SetLineWidth(1)\n",
    "fUnity.SetLineStyle(7)\n",
    "fUnity.SetTitle(\"\")\n",
    "fUnity.Draw()\n",
    "\n",
    "# SOY stat errs\n",
    "k = kSOY\n",
    "kr = kSOY+'ratiostat'\n",
    "h[kr] = ROOT.TGraphAsymmErrors()\n",
    "h[kr].SetName(kr)\n",
    "for i in range(h[k].GetNbinsX()-1):\n",
    "    ib = i+2\n",
    "    h[kr].SetPoint(i, h[k].GetBinCenter(ib), 1.)\n",
    "    h[kr].SetPointError(\n",
    "        i,\n",
    "        h[k].GetBinWidth(ib)/2.,\n",
    "        h[k].GetBinWidth(ib)/2.,\n",
    "        (h[k].GetBinError(ib)/h[k].GetBinContent(ib)),\n",
    "        (h[k].GetBinError(ib)/h[k].GetBinContent(ib)),\n",
    "        )\n",
    "#h[kr].SetFillColor(9)\n",
    "h[kr].SetFillColor(14) #1\n",
    "h[kr].SetFillStyle(3002)\n",
    "h[kr].Draw(\"E2 same\")\n",
    "\n",
    "# MOY/SOY\n",
    "kr = kMOY+'o'+kSOY+'ratiostat'\n",
    "h[kr] = h[kSOY].Clone()\n",
    "h[kr].Reset()\n",
    "h[kr].SetName(kr)\n",
    "for ib in range(1, h[k].GetNbinsX()+1):\n",
    "    obs = h[kMOY].GetBinContent(ib)\n",
    "    obs_err = h[kMOY].GetBinError(ib)\n",
    "    bkg = h[kSOY].GetBinContent(ib)\n",
    "    if bkg == 0.: continue\n",
    "    bkg_err = h[kSOY].GetBinError(ib)\n",
    "    h[kr].SetBinContent(ib, obs/bkg)\n",
    "    h[kr].SetBinError(ib, obs_err/obs)\n",
    "#h[kr].SetLineColor(9)\n",
    "h[kr].SetStats(0)\n",
    "#h[kr].Divide(h[kmc])\n",
    "h[kr].SetMarkerStyle(25) #20,2\n",
    "#h[kr].SetMarkerSize(0.85)\n",
    "h[kr].SetMarkerSize(0.75)\n",
    "h[kr].SetMarkerColor(9)\n",
    "h[kr].SetLineColor(9) #9\n",
    "h[kr].Draw(\"ep same\")\n",
    "\n",
    "# EOY/SOY\n",
    "kr = kEOY+'o'+kSOY+'ratiostat'\n",
    "h[kr] = h[kSOY].Clone()\n",
    "h[kr].Reset()\n",
    "h[kr].SetName(kr)\n",
    "for ib in range(1, h[k].GetNbinsX()+1):\n",
    "    obs = h[kEOY].GetBinContent(ib)\n",
    "    obs_err = h[kEOY].GetBinError(ib)\n",
    "    bkg = h[kSOY].GetBinContent(ib)\n",
    "    if bkg == 0.: continue\n",
    "    bkg_err = h[kSOY].GetBinError(ib)\n",
    "    h[kr].SetBinContent(ib, obs/bkg)\n",
    "    h[kr].SetBinError(ib, obs_err/obs)\n",
    "#h[kr].SetLineColor(9)\n",
    "h[kr].SetStats(0)\n",
    "#h[kr].Divide(h[kmc])\n",
    "h[kr].SetMarkerStyle(26) #24\n",
    "#h[kr].SetMarkerSize(0.85)\n",
    "h[kr].SetMarkerSize(0.75)\n",
    "h[kr].SetMarkerColor(2)\n",
    "h[kr].SetLineColor(2) #9\n",
    "h[kr].Draw(\"ep same\")\n",
    "\n",
    "#k = kr\n",
    "k = kSOY\n",
    "#l[k] = ROOT.TLine(0.135, 1.-dY, 0.135, 1.+dY) # x0,y0, x1,y1\n",
    "#l[k].SetLineColor(14)\n",
    "#l[k].SetLineStyle(7)\n",
    "#l[k].Draw(\"same\")\n",
    "\n",
    "#l2[k] = ROOT.TLine(0.55, 1.-dY, 0.55, 1.+dY) # x0,y0, x1,y1\n",
    "#l2[k].SetLineColor(14)\n",
    "#l2[k].SetLineStyle(7)\n",
    "#l2[k].Draw(\"same\")\n",
    "\n",
    "#hatch[k] = ROOT.TGraph(2, array('d',[0.,0.]), array('d',[1.-dY,1.+dY]));\n",
    "#hatch[k].SetLineColor(14)\n",
    "#hatch[k].SetLineWidth(5001)\n",
    "#hatch[k].SetFillStyle(3004)\n",
    "#hatch[k].SetFillColor(14)\n",
    "#hatch[k].Draw(\"same\")\n",
    "#'''\n",
    "\n",
    "#k = kSOY\n",
    "c[k].Draw()\n",
    "c[k].Update()\n",
    "c[k].RedrawAxis()\n",
    "#c[k].Print('Plots/%s_sb2srvsr_blind_%s.eps'%(samples, blind))\n",
    "#c[k].Print('Plots/%s_sb2srvsr_blind_%.eps'%(samples, blind))\n",
    "#samples_str = '_'.join(samples)\n",
    "#c[k].Print('Plots/Run2017_DYToEE_dataomc_blind_None_dataallma1o%dMeV_nocorr_noptrwgt.pdf'%dM)\n",
    "#c[k].Print('Plots/Run2017_DYToEE_dataomc_blind_None_dataallma1o%dMeV_nocorr_ptrwgt.pdf'%dM)\n",
    "if print_pdf:\n",
    "    pass\n",
    "    c[k].Print('%s/pi0-%s%svs%svs%s_ma1_ptetarewgt.pdf'%(plot_dir, year, kSOY, kMOY, kEOY))\n",
    "#c[k].Print('Plots/h4g/pi0-%svs%s_ma1_ptetarewgt_%s.pdf'%(kdata, kmc, ml_model))\n",
    "\n",
    "#draw_hist_1dmastacked()"
   ]
  }
 ],
 "metadata": {
  "kernelspec": {
   "display_name": "Python 2",
   "language": "python",
   "name": "python2"
  },
  "language_info": {
   "codemirror_mode": {
    "name": "ipython",
    "version": 2
   },
   "file_extension": ".py",
   "mimetype": "text/x-python",
   "name": "python",
   "nbconvert_exporter": "python",
   "pygments_lexer": "ipython2",
   "version": "2.7.16"
  }
 },
 "nbformat": 4,
 "nbformat_minor": 4
}
