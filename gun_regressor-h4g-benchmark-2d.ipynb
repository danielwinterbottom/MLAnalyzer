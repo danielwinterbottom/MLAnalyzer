{
 "cells": [
  {
   "cell_type": "code",
   "execution_count": 66,
   "metadata": {},
   "outputs": [],
   "source": [
    "from __future__ import print_function\n",
    "import numpy as np\n",
    "np.random.seed(0)\n",
    "import os, glob\n",
    "import time\n",
    "import argparse\n",
    "\n",
    "import matplotlib.pyplot as plt\n",
    "import ROOT"
   ]
  },
  {
   "cell_type": "code",
   "execution_count": 67,
   "metadata": {},
   "outputs": [
    {
     "name": "stdout",
     "output_type": "stream",
     "text": [
      "h4g2017-mA0p4GeV_mantuple.root\n",
      "len(img_inputs): 1\n",
      "Setting IMG as main TTree\n",
      "N IMG files: 1\n",
      "IMG file[0]: h4g2017-mA0p4GeV_mantuple.root\n",
      "root://cmseos.fnal.gov//store/user/lpchaa4g/mandrews/2017/Era2017_15Mar2021_CLUSv1/skim/ep90/h4g2017-mA0p4GeV_mantuple.root\n",
      "N evts in IMG ntuple: 99658\n"
     ]
    }
   ],
   "source": [
    "# Load IMG ntuples as main TTree\n",
    "#img_list = 'Era2017_17Dec2020_CLUSv1_data2017-Run2017B_trunc.txt'\n",
    "#print('Opening img input list:',img_list)\n",
    "#img_inputs = []\n",
    "#with open(img_list, 'r') as img_file:\n",
    "#    for img_input in img_file:\n",
    "#        img_inputs.append(img_input[:-1])\n",
    "eos_basedir = 'root://cmseos.fnal.gov//store/user/lpchaa4g/mandrews/2017/Era2017_15Mar2021_CLUSv1/skim/ep90'\n",
    "img_inputs = [\n",
    "    #'h4g2017-mA1p0GeV_mantuple.root'\n",
    "    'h4g2017-mA0p4GeV_mantuple.root'\n",
    "    #'h4g2017-mA0p2GeV_mantuple.root'\n",
    "    #'h4g2017-mA0p1GeV_mantuple.root'\n",
    "    #'bg2017-hgg_mantuple.root'\n",
    "    #'data2017-Run2017B_trunc_mantuple.root'\n",
    "    #'data2017-Run2017B_mantuple.root',\n",
    "    #'data2017-Run2017C_mantuple.root',\n",
    "    #'data2017-Run2017D_mantuple.root',\n",
    "    #'data2017-Run2017E_mantuple.root',\n",
    "    #'data2017-Run2017F_mantuple.root',\n",
    "]\n",
    "print(img_inputs[0])\n",
    "print('len(img_inputs):',len(img_inputs))\n",
    "assert len(img_inputs) > 0\n",
    "\n",
    "print('Setting IMG as main TTree')\n",
    "print('N IMG files:',len(img_inputs))\n",
    "print('IMG file[0]:',img_inputs[0])\n",
    "tree = ROOT.TChain(\"mantuple\")\n",
    "for fi in img_inputs:\n",
    "    fname = '%s/%s'%(eos_basedir,fi)\n",
    "    #fname = './%s'%fi\n",
    "    print(fname)\n",
    "    tree.Add(fname)\n",
    "    #break\n",
    "nEvts = tree.GetEntries()\n",
    "print('N evts in IMG ntuple:',nEvts)\n",
    "\n",
    "sample = img_inputs[0].split('_')[0].split('-')[-1]\n",
    "if 'mA' in sample:\n",
    "    mass = float(sample.strip('mA').strip('GeV').replace('p','.'))\n",
    "else:\n",
    "    mass = 0."
   ]
  },
  {
   "cell_type": "code",
   "execution_count": 68,
   "metadata": {},
   "outputs": [],
   "source": [
    "'''eb_scale = 25.\n",
    "m0_scale = 1.6\n",
    "def transform_y(y):\n",
    "    return y/m0_scale\n",
    "def inv_transform(y):\n",
    "    return y*m0_scale\n",
    "def shapeEB(eb):\n",
    "    return np.array(eb).reshape(1,170,360)\n",
    "'''\n",
    "def make_pdf(h):\n",
    "\n",
    "    sumOverY = {}\n",
    "    for ix in range(1, h.GetNbinsX()+1):\n",
    "        sumOverY[ix] = sum([h.GetBinContent(ix, iy_) for iy_ in range(1, h.GetNbinsY()+1)])\n",
    "        for iy in range(1, h.GetNbinsY()+1):\n",
    "            binc = h.GetBinContent(ix, iy)\n",
    "            if sumOverY[ix] > 0.:\n",
    "                h.SetBinContent(ix, iy, binc/sumOverY[ix])\n",
    "\n",
    "    return h\n",
    "\n",
    "def set_hist(h, c, xtitle, ytitle, htitle):\n",
    "    #c.SetLeftMargin(0.14)\n",
    "    #c.SetRightMargin(0.07)\n",
    "    #c.SetBottomMargin(0.12)\n",
    "    #c.SetTopMargin(0.07)\n",
    "    c.SetLeftMargin(0.16)\n",
    "    c.SetRightMargin(0.07)\n",
    "    c.SetBottomMargin(0.15)\n",
    "    c.SetTopMargin(0.07)\n",
    "    ROOT.gStyle.SetOptStat(0)\n",
    "\n",
    "    h.GetXaxis().SetLabelSize(0.04)\n",
    "    #h.GetXaxis().SetLabelFont(62)\n",
    "    h.GetXaxis().SetTitle(xtitle)\n",
    "    h.GetXaxis().SetTitleOffset(0.9)\n",
    "    h.GetXaxis().SetTitleSize(0.06)\n",
    "    #h.GetXaxis().SetTitleFont(62)\n",
    "\n",
    "    h.GetYaxis().SetLabelSize(0.04)\n",
    "    #h.GetYaxis().SetLabelFont(62)\n",
    "    h.GetYaxis().SetTitleOffset(1.2)\n",
    "    h.GetYaxis().SetTitleSize(0.06)\n",
    "    #h.GetYaxis().SetTitleFont(62)\n",
    "    h.GetYaxis().SetTitle(ytitle)\n",
    "\n",
    "    h.SetTitleSize(0.04)\n",
    "    #h.SetTitleFont(62)\n",
    "    h.SetTitle(htitle)\n",
    "    h.SetTitleOffset(1.2)\n",
    "\n",
    "    return h, c"
   ]
  },
  {
   "cell_type": "code",
   "execution_count": 69,
   "metadata": {},
   "outputs": [
    {
     "name": "stdout",
     "output_type": "stream",
     "text": [
      ">> Processing entries: [ 0 -> 99658 )\n",
      "['sieie', 'mgg', 'pt', 'pu', 'energy', 'chiso', 'nRecoPho', 'bdt', 'eta', 'ma3b3', 'ma', 'mafc', 'id']\n",
      "0 / 99658\n",
      ">> Done\n",
      "Eff e2e: 91583/99658 = 0.918973\n",
      "Eff 3b3: 27923/99658 = 0.280188\n"
     ]
    }
   ],
   "source": [
    "c, h, hc = {}, {}, {}\n",
    "#wd, ht = int(440*1), int(400*1)\n",
    "wd, ht = int(400*1), int(400*1)\n",
    "\n",
    "k = 'ma0'\n",
    "h[k] = ROOT.TH1F(k, k, 140, -0.2, 1.2)\n",
    "k = 'ma1'\n",
    "h[k] = ROOT.TH1F(k, k, 140, -0.2, 1.2)\n",
    "\n",
    "# Event range to process\n",
    "iEvtStart = 0\n",
    "iEvtEnd   = nEvts\n",
    "#iEvtEnd   = 100000#100#50000#10\n",
    "print(\">> Processing entries: [\",iEvtStart,\"->\",iEvtEnd,\")\")\n",
    "\n",
    "pho = {}\n",
    "pho['mgg'] = []\n",
    "for v in ['sieie', 'bdt', 'ma', 'pt', 'id', 'ma3b3','mafc','eta','pu', 'nRecoPho', 'energy', 'chiso']:\n",
    "    pho[v] = []\n",
    "    #for i in range(2):\n",
    "    #    pho[v+str(i)] = []\n",
    "print(pho.keys())\n",
    "nWrite = 0\n",
    "n2dma = 0\n",
    "n2dma_3b3 = 0\n",
    "sw = ROOT.TStopwatch()\n",
    "sw.Start()\n",
    "for iEvt in range(iEvtStart,iEvtEnd):\n",
    "\n",
    "    # Initialize event\n",
    "    if iEvt%100e3==0: print(iEvt,'/',iEvtEnd-iEvtStart)\n",
    "    evt_status = tree.GetEntry(iEvt)\n",
    "\n",
    "    #if tree.m0 > 110.: continue # GeV\n",
    "\n",
    "    '''\n",
    "    if tree.pho_pT[1] > ptcut: continue\n",
    "    if tree.pho_bdt[1] < bdtcut: continue\n",
    "    if tree.pho_sieie[1] > sieiecut: continue\n",
    "    if tree.pho_chgIso[1]/tree.pho_pT[1] > relchgisocut: continue\n",
    "    '''\n",
    "    #if (tree.ieta0 < 15) or (tree.ieta0+16 > 169): continue\n",
    "    #if (tree.ieta1 < 15) or (tree.ieta1+16 > 169): continue\n",
    "    \n",
    "    '''\n",
    "    pho['mgg'].append(tree.mgg)\n",
    "    pho['ma0'].append(tree.ma0)\n",
    "    pho['ma1'].append(tree.ma1)\n",
    "    pho['sieie0'].append(tree.sieie0)\n",
    "    pho['sieie1'].append(tree.sieie1)\n",
    "    pho['bdt0'].append(tree.bdt0)\n",
    "    pho['bdt1'].append(tree.bdt1)\n",
    "    pho['pt0'].append(tree.pt0)\n",
    "    pho['pt1'].append(tree.pt1)\n",
    "    '''\n",
    "    #ecorr0 = tree.energyCorr0/tree.energy0\n",
    "    #ecorr1 = tree.energyCorr1/tree.energy1\n",
    "    #print(tree.energyCorr0, tree.energyCorr1)\n",
    "    #print(tree.energy0, tree.energy1)\n",
    "    #print(tree.pt0, tree.pt1)\n",
    "    pho['mgg'].append(tree.mgg)\n",
    "    pho['mgg'].append(tree.mgg)\n",
    "    pho['ma'].append(tree.ma0)\n",
    "    pho['ma'].append(tree.ma1)\n",
    "    pho['sieie'].append(tree.sieie0)\n",
    "    pho['sieie'].append(tree.sieie1)\n",
    "    pho['bdt'].append(tree.bdt0)\n",
    "    pho['bdt'].append(tree.bdt1)\n",
    "    pho['pt'].append(tree.pt0)\n",
    "    pho['pt'].append(tree.pt1)\n",
    "    pho['energy'].append(tree.energy0)\n",
    "    pho['energy'].append(tree.energy1)\n",
    "    pho['id'].append(0)\n",
    "    pho['id'].append(1)\n",
    "    #'''\n",
    "    pho['ma3b3'].append(tree.ma3b30)\n",
    "    pho['ma3b3'].append(tree.ma3b31)\n",
    "    pho['mafc'].append(tree.mafc0)\n",
    "    pho['mafc'].append(tree.mafc1)\n",
    "    pho['eta'].append(tree.eta0)\n",
    "    pho['eta'].append(tree.eta1)\n",
    "    pho['pu'].append(tree.pu)\n",
    "    pho['pu'].append(tree.pu)\n",
    "    \n",
    "    pho['chiso'].append(tree.chiso0/tree.pt0)\n",
    "    pho['chiso'].append(tree.chiso1/tree.pt1)\n",
    "    \n",
    "    pho['nRecoPho'].append(tree.nRecoPho)\n",
    "    pho['nRecoPho'].append(tree.nRecoPho)\n",
    "    #print(tree.run, tree.lumi, tree.evt, tree.pu)\n",
    "    if tree.ma0 > 0. and tree.ma1 > 0.: n2dma += 1\n",
    "    if tree.ma3b30 > 0. and tree.ma3b31 > 0.: n2dma_3b3 += 1\n",
    "    #'''\n",
    "    #break\n",
    "    #if iEvt > 100000: break\n",
    "    \n",
    "print('>> Done')\n",
    "print('Eff e2e: %.f/%.f = %f'%(n2dma, nEvts, float(n2dma)/float(nEvts)))\n",
    "print('Eff 3b3: %.f/%.f = %f'%(n2dma_3b3, nEvts, float(n2dma_3b3)/float(nEvts)))\n",
    "for k in pho:\n",
    "    pho[k] = np.array(pho[k])"
   ]
  },
  {
   "cell_type": "code",
   "execution_count": 70,
   "metadata": {
    "scrolled": false
   },
   "outputs": [
    {
     "data": {
      "image/png": "[encoded data removed]",
      "text/plain": [
       "<Figure size 432x288 with 1 Axes>"
      ]
     },
     "metadata": {
      "needs_background": "light"
     },
     "output_type": "display_data"
    },
    {
     "data": {
      "image/png": "[encoded data removed]",
      "text/plain": [
       "<Figure size 432x288 with 1 Axes>"
      ]
     },
     "metadata": {
      "needs_background": "light"
     },
     "output_type": "display_data"
    },
    {
     "name": "stdout",
     "output_type": "stream",
     "text": [
      "1.1999866962432861\n"
     ]
    },
    {
     "data": {
      "image/png": "[encoded data removed]",
      "text/plain": [
       "<Figure size 432x288 with 1 Axes>"
      ]
     },
     "metadata": {
      "needs_background": "light"
     },
     "output_type": "display_data"
    },
    {
     "data": {
      "image/png": "[encoded data removed]",
      "text/plain": [
       "<Figure size 432x288 with 1 Axes>"
      ]
     },
     "metadata": {
      "needs_background": "light"
     },
     "output_type": "display_data"
    },
    {
     "data": {
      "image/png": "[encoded data removed]",
      "text/plain": [
       "<Figure size 432x288 with 1 Axes>"
      ]
     },
     "metadata": {
      "needs_background": "light"
     },
     "output_type": "display_data"
    },
    {
     "data": {
      "image/png": "[encoded data removed]",
      "text/plain": [
       "<Figure size 432x288 with 1 Axes>"
      ]
     },
     "metadata": {
      "needs_background": "light"
     },
     "output_type": "display_data"
    },
    {
     "data": {
      "image/png": "[encoded data removed]",
      "text/plain": [
       "<Figure size 432x288 with 1 Axes>"
      ]
     },
     "metadata": {
      "needs_background": "light"
     },
     "output_type": "display_data"
    }
   ],
   "source": [
    "selection = (pho['pt'] > 0.)\\\n",
    "            & (pho['nRecoPho'] == 2)\\\n",
    "            #& (pho['pt'] < 100.)\\\n",
    "            # only for pi0 sel:\n",
    "            #& (pho['bdt'] > -0.92)\\\n",
    "            #& (pho['sieie'] < 0.013)\\\n",
    "            #& (pho['chiso'] < 0.3)\n",
    "mae2e = pho['ma'][selection]#[selection]\n",
    "eta = pho['eta'][selection]\n",
    "pt = pho['pt'][selection]\n",
    "pu = pho['pu'][selection]\n",
    "\n",
    "ma3b3 = pho['ma3b3'][selection]\n",
    "mafc = pho['mafc'][selection]\n",
    "phoidx = pho['id'][selection]\n",
    "\n",
    "nbins = 140#56#28#14056#48\n",
    "nbins = 120\n",
    "nbins = 48*2\n",
    "plt.hist(mae2e, histtype='step', range=(0., 1.2), bins=nbins)\n",
    "plt.hist(ma3b3, histtype='step', range=(0., 1.2), bins=nbins)\n",
    "plt.axvline(x=mass, color='r', linestyle='dashed', linewidth=1, alpha=0.4)\n",
    "plt.show()\n",
    "\n",
    "plt.hist(ma3b3, histtype='step', bins=nbins, range=(-9., 1.6))\n",
    "plt.show()\n",
    "print(np.max(ma3b3))\n",
    "\n",
    "plt.hist(pho['bdt'][selection], histtype='step', range=(-1., 1.), bins=nbins)\n",
    "plt.show()\n",
    "\n",
    "plt.hist(pho['nRecoPho'][selection], histtype='step', range=(0., 5.), bins=5)\n",
    "plt.show()\n",
    "\n",
    "plt.hist(pt, histtype='step', range=(0., 200.), bins=50)\n",
    "plt.show()\n",
    "\n",
    "plt.hist(pho['energy'][selection], histtype='step', range=(0., 200.), bins=50)\n",
    "plt.show()\n",
    "\n",
    "plt.hist(pho['mgg'][selection], histtype='step', range=(100., 200.), bins=50)\n",
    "plt.show()"
   ]
  },
  {
   "cell_type": "code",
   "execution_count": 92,
   "metadata": {},
   "outputs": [
    {
     "name": "stdout",
     "output_type": "stream",
     "text": [
      "60937 75341 31147 9835\n"
     ]
    },
    {
     "data": {
      "image/png": "[encoded data removed]",
      "text/plain": [
       "<Figure size 432x288 with 1 Axes>"
      ]
     },
     "metadata": {
      "needs_background": "light"
     },
     "output_type": "display_data"
    }
   ],
   "source": [
    "algo = 'e2e'\n",
    "algo = 'phoNN'\n",
    "algo = '3b3'\n",
    "if algo == 'e2e':\n",
    "    ma = mae2e\n",
    "    algoText = 'End-to-end'\n",
    "elif algo == 'phoNN':\n",
    "    ma = mafc\n",
    "    algoText = 'Photon NN'\n",
    "elif algo == '3b3':\n",
    "    ma = ma3b3\n",
    "    algoText = '3x3 clustering'\n",
    "else:\n",
    "    raise Exception('invalid algo')\n",
    "sg = 7.5\n",
    "ptcut_lo, ptcut_hi = 62.5-sg, 62.5+sg\n",
    "ptcut_ultra = 100.\n",
    "#print(len(pt[pt<ptcut_lo]), len(pt[(pt>ptcut_lo)&(pt<ptcut_hi)]), len(pt[pt>ptcut_hi]))\n",
    "print(len(pt[pt<ptcut_lo]), len(pt[(pt>ptcut_lo)&(pt<ptcut_hi)]), len(pt[(pt>ptcut_hi)&(pt<ptcut_ultra)]), len(pt[pt>ptcut_ultra]))\n",
    "#plt.hist(ma, histtype='step', range=(0., 1.2), bins=nbins)\n",
    "plt.hist(ma[pt<ptcut_lo], histtype='step', range=(0., 1.2), bins=nbins, weights=np.ones_like(ma[pt<ptcut_lo])/len(ma[pt<ptcut_lo]))\n",
    "plt.hist(ma[(pt>ptcut_lo)&(pt<ptcut_hi)], histtype='step', range=(0., 1.2), bins=nbins, weights=np.ones_like(ma[(pt>ptcut_lo)&(pt<ptcut_hi)])/len(ma[(pt>ptcut_lo)&(pt<ptcut_hi)]))\n",
    "plt.hist(ma[(pt>ptcut_hi)&(pt<ptcut_ultra)], histtype='step', range=(0., 1.2), bins=nbins, weights=np.ones_like(ma[(pt>ptcut_hi)&(pt<ptcut_ultra)])/len(ma[(pt>ptcut_hi)&(pt<ptcut_ultra)]))\n",
    "#plt.hist(ma[pt>ptcut_hi], histtype='step', range=(0., 1.2), bins=nbins, weights=np.ones_like(ma[pt>ptcut_hi])/len(ma[pt>ptcut_hi]))\n",
    "plt.hist(ma[pt>ptcut_ultra], histtype='step', range=(0., 1.2), bins=nbins, weights=np.ones_like(ma[pt>ptcut_ultra])/len(ma[pt>ptcut_ultra]))\n",
    "#plt.hist(ma[pt>100.], histtype='step', range=(0., 1.2), bins=nbins, weights=np.ones_like(ma[pt>100.])/len(ma[pt>100.]))\n",
    "plt.axvline(x=mass, color='r', linestyle='dashed', linewidth=1, alpha=0.4)\n",
    "#plt.axvline(x=0.55, color='r', linestyle='dashed', linewidth=1, alpha=0.4)\n",
    "plt.show()"
   ]
  },
  {
   "cell_type": "code",
   "execution_count": 93,
   "metadata": {},
   "outputs": [],
   "source": [
    "import CMS_lumi, tdrstyle\n",
    "\n",
    "ROOT.gStyle.SetPadTickX(1)\n",
    "ROOT.gStyle.SetPadTickY(1)\n",
    "#change the CMS_lumi variables (see CMS_lumi.py)\n",
    "CMS_lumi.lumi_7TeV = \"4.8 fb^{-1}\"\n",
    "CMS_lumi.lumi_8TeV = \"18.3 fb^{-1}\"\n",
    "CMS_lumi.writeExtraText = 1\n",
    "CMS_lumi.extraText = \"Simulation\"\n",
    "#CMS_lumi.lumi_sqrtS = \"41.9 fb^{-1} (13 TeV)\" # used with iPeriod = 0, e.g. for simulation-only plots (default is an empty string)\n",
    "#CMS_lumi.lumi_sqrtS = \"13 TeV\" # used with iPeriod = 0, e.g. for simulation-only plots (default is an empty string)\n",
    "if mass >=1.:\n",
    "    CMS_lumi.lumi_sqrtS = \"m(a) = %.f GeV\"%mass\n",
    "elif mass == 0.:\n",
    "    CMS_lumi.lumi_sqrtS = \"photon\"\n",
    "else:\n",
    "    #CMS_lumi.lumi_sqrtS = \"m(a) = %.f MeV\"%(mass*1.e3)\n",
    "    CMS_lumi.lumi_sqrtS = \"m(a) = %.1f GeV\"%mass\n",
    "    \n",
    "#plot_dir = 'Plots/massreg/draft5'\n",
    "plot_dir = 'Plots/massreg/vSPP'\n",
    "print_pdf = True\n",
    "\n",
    "if not os.path.exists(plot_dir):\n",
    "    os.makedirs(plot_dir)"
   ]
  },
  {
   "cell_type": "code",
   "execution_count": 94,
   "metadata": {},
   "outputs": [
    {
     "name": "stdout",
     "output_type": "stream",
     "text": [
      "79.0\n",
      "m(a) = 0.4 GeV\n",
      "test\n"
     ]
    },
    {
     "name": "stderr",
     "output_type": "stream",
     "text": [
      "Warning in <TCanvas::Constructor>: Deleting canvas with same name: chmA1vA2400MeV\n",
      "Warning in <TROOT::Append>: Replacing existing TH1: hmA1vA2400MeV (Potential memory leak).\n",
      "Info in <TCanvas::Print>: pdf file Plots/massreg/vSPP/h4g-hmA1vA2400MeV-3b3-bin25.pdf has been created\n"
     ]
    },
    {
     "data": {
      "image/png": "[encoded data removed]",
      "text/plain": [
       "<IPython.core.display.Image object>"
      ]
     },
     "metadata": {},
     "output_type": "display_data"
    }
   ],
   "source": [
    "make_2dpdf = False\n",
    "\n",
    "CMS_lumi.cmsTextOffset = 0.\n",
    "CMS_lumi.lumiTextSize = 0.6\n",
    "CMS_lumi.cmsTextSize = 0.75\n",
    "\n",
    "iPos = 0\n",
    "#if( iPos==0 ): CMS_lumi.relPosX = 0.16\n",
    "if( iPos==0 ): CMS_lumi.relPosX = 0.195\n",
    "iPeriod = 0\n",
    "\n",
    "#wd, ht = int(480*1), int(400*1)\n",
    "wd, ht = int(440*1), int(400*1)\n",
    "\n",
    "#'''\n",
    "k = 'hmA1vA2%dMeV'%int(mass*1e3)\n",
    "c[k] = ROOT.TCanvas(\"c%s\"%k,\"c%s\"%k,wd,ht)\n",
    "#h[k] = ROOT.TH2F(k, k, 50, 20., 100., 48, 0., 1.2)\n",
    "#h[k] = ROOT.TH2F(k, k, 35, 30., 100., 48, 0., 1.2)\n",
    "h[k] = ROOT.TH2F(k, k, 48, 0., 1.2, 48, 0., 1.2)\n",
    "\n",
    "m1s, m2s = ma[phoidx==0], ma[phoidx==1]\n",
    "for m1,m2 in zip(m1s, m2s):\n",
    "    h[k].Fill(m1, m2)\n",
    "#'''\n",
    "\n",
    "c[k].cd()\n",
    "if make_2dpdf: h[k] = make_pdf(h[k])\n",
    "h[k], c[k] = set_hist(h[k], c[k], \"m_{#Gamma,1} [GeV]\", \"m_{#Gamma,2} [GeV]\", \"m_{#Gamma} vs. p_{T,a}\")\n",
    "ROOT.gPad.SetTopMargin(0.09)\n",
    "ROOT.gPad.SetBottomMargin(0.18)\n",
    "ROOT.gPad.SetLeftMargin(0.17)\n",
    "ROOT.gPad.SetRightMargin(0.17) # no title\n",
    "ROOT.gStyle.SetPalette(55)#53\n",
    "h[k].SetTitle('')\n",
    "\n",
    "h[k].GetYaxis().SetTitleSize(0.06)\n",
    "\n",
    "#h[k].GetXaxis().SetTitleOffset(0.9)\n",
    "h[k].GetXaxis().SetTitleSize(0.07)\n",
    "h[k].GetZaxis().SetTitleFont(42)\n",
    "h[k].GetZaxis().SetLabelFont(42)\n",
    "h[k].GetYaxis().SetTitleFont(42)\n",
    "h[k].GetYaxis().SetLabelFont(42)\n",
    "h[k].GetXaxis().SetTitleFont(42)\n",
    "h[k].GetXaxis().SetLabelFont(42)\n",
    "#h[k].GetXaxis().SetNdivisions(505)\n",
    "\n",
    "h[k].GetZaxis().SetTitleOffset(1.3)\n",
    "h[k].GetZaxis().SetTitleSize(0.07)\n",
    "h[k].GetZaxis().SetLabelSize(0.06)\n",
    "\n",
    "h[k].GetYaxis().SetTitleOffset(1.1)\n",
    "h[k].GetYaxis().SetTitleSize(0.07)\n",
    "h[k].GetYaxis().SetLabelSize(0.06)\n",
    "\n",
    "h[k].GetXaxis().SetTitleOffset(1.1)\n",
    "h[k].GetXaxis().SetTitleSize(0.07)\n",
    "h[k].GetXaxis().SetLabelSize(0.06)\n",
    "\n",
    "h[k].GetXaxis().SetLabelOffset(0.01)\n",
    "h[k].GetYaxis().SetLabelOffset(0.01)\n",
    "h[k].GetZaxis().SetLabelOffset(0.01)\n",
    "\n",
    "h[k].GetZaxis().SetMaxDigits(4)\n",
    "h[k].GetZaxis().SetNdivisions(505)\n",
    "h[k].SetContour(100)\n",
    "h[k].SetMinimum(0.)\n",
    "if make_2dpdf:\n",
    "    pass\n",
    "    #ROOT.gPad.SetLeftMargin(0.15)\n",
    "    #ROOT.gPad.SetRightMargin(0.2)\n",
    "    #h[k].GetZaxis().SetTitle(\"p(m_{#Gamma}|p_{T,a})\")\n",
    "    #h[k].GetZaxis().SetTitleOffset(1.35)\n",
    "#else:\n",
    "#    h[k].SetMaximum(60.)\n",
    "print(h[k].GetMaximum())\n",
    "#h[k].SetMaximum(1250)\n",
    "#h[k].SetMaximum(2500)\n",
    "h[k].SetMaximum(680)\n",
    "h[k].Draw(\"COL Z\")\n",
    "CMS_lumi.CMS_lumi(c[k], iPeriod, iPos)\n",
    "c[k].Draw()\n",
    "#if make_2dpdf:\n",
    "#    palette = h[k].GetListOfFunctions().FindObject(\"palette\")\n",
    "#    palette.SetX1NDC(0.795)\n",
    "#    palette.SetX2NDC(0.845)\n",
    "#    palette.SetY2NDC(0.92)\n",
    "    #palette.SetX1NDC(0.815)\n",
    "    #palette.SetX2NDC(0.865)\n",
    "    #palette.SetY2NDC(0.92)\n",
    "#palette[k] = h[k].GetListOfFunctions().FindObject(\"palette\")\n",
    "#palette[k].SetX1NDC(0.84)\n",
    "#palette[k].SetX2NDC(0.89)\n",
    "#palette[k].SetY1NDC(0.13)\n",
    "#palette[k].SetY2NDC(0.9)\n",
    "#c[k].Update()\n",
    "#if print_png: c[k].Print('%s/%sMeV.png'%(plot_dir, k))\n",
    "#if print_pdf: c[k].Print('%s/h4g-%s-%s.pdf'%(plot_dir, k, algo))\n",
    "if print_pdf: c[k].Print('%s/h4g-%s-%s-bin25.pdf'%(plot_dir, k, algo))"
   ]
  }
 ],
 "metadata": {
  "kernelspec": {
   "display_name": "Python 2",
   "language": "python",
   "name": "python2"
  },
  "language_info": {
   "codemirror_mode": {
    "name": "ipython",
    "version": 2
   },
   "file_extension": ".py",
   "mimetype": "text/x-python",
   "name": "python",
   "nbconvert_exporter": "python",
   "pygments_lexer": "ipython2",
   "version": "2.7.16"
  }
 },
 "nbformat": 4,
 "nbformat_minor": 2
}
